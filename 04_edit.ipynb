{
 "cells": [
  {
   "cell_type": "code",
   "execution_count": null,
   "metadata": {},
   "outputs": [],
   "source": []
  },
  {
   "cell_type": "code",
   "execution_count": 2,
   "metadata": {},
   "outputs": [
    {
     "name": "stdout",
     "output_type": "stream",
     "text": [
      "pygame 2.1.2 (SDL 2.0.18, Python 3.10.4)\n",
      "Hello from the pygame community. https://www.pygame.org/contribute.html\n"
     ]
    }
   ],
   "source": [
    "import pytmx\n",
    "import mineworld.util as util\n",
    "import mineworld.room as room\n",
    "import mineworld.corridor as corridor\n",
    "import os\n",
    "import glob\n",
    "import mcpi.minecraft as minecraft\n",
    "import mcpi.entity as entity\n",
    "import mcpi.block as block\n",
    "import numpy as np\n",
    "from mcpi.vec3 import Vec3\n",
    "\n",
    "mc = minecraft.Minecraft.create(address='192.168.1.38')"
   ]
  },
  {
   "cell_type": "code",
   "execution_count": 22,
   "metadata": {},
   "outputs": [
    {
     "name": "stdout",
     "output_type": "stream",
     "text": [
      "None\n"
     ]
    }
   ],
   "source": [
    ")"
   ]
  },
  {
   "cell_type": "code",
   "execution_count": 23,
   "metadata": {},
   "outputs": [
    {
     "name": "stdout",
     "output_type": "stream",
     "text": [
      "{'bank': <mineworld.room.Room object at 0x7fae2dfa3190>, 'bathroom': <mineworld.room.Room object at 0x7fae2deae380>, 'castle': <mineworld.room.Room object at 0x7fae2dec7670>, 'castle_dungeon': <mineworld.room.Room object at 0x7fae2df12bc0>, 'clothes_shop': <mineworld.room.Room object at 0x7fae2df01c90>, 'dice_room': <mineworld.room.Room object at 0x7fae2de5d1e0>, 'dining': <mineworld.room.Room object at 0x7fae2de561a0>, 'factory': <mineworld.room.Room object at 0x7fae2dfc5d80>, 'lazerforce': <mineworld.room.Room object at 0x7fae2df85cf0>, 'library': <mineworld.room.Room object at 0x7fae2dfc3ca0>, 'miners_cave': <mineworld.room.Room object at 0x7fae2df65360>, 'new': <mineworld.room.Room object at 0x7fae2df42770>, 'pokemon_room': <mineworld.room.Room object at 0x7fae2de21cf0>, 'school': <mineworld.room.Room object at 0x7fae2dfa4850>, 'spider_room': <mineworld.room.Room object at 0x7fae2df38310>, 'sticker_room': <mineworld.room.Room object at 0x7fae2e341600>, 'swimming_pool': <mineworld.room.Room object at 0x7fae2e3628f0>, 'train_station': <mineworld.room.Room object at 0x7fae2e377be0>, 'war_room': <mineworld.room.Room object at 0x7fae2e39cf10>}\n"
     ]
    }
   ],
   "source": [
    "# gamerule doMobSpawning false\n",
    "\n",
    "rooms = {}\n",
    "files = list(glob.glob(\"rooms2/*.pickle\"))\n",
    "files.sort()\n",
    "for rf in files:\n",
    "    r = room.load_room(rf)\n",
    "    rooms[r.name] = r\n",
    "print(rooms)\n",
    "\n",
    "roomid = 0\n",
    "for r in rooms:\n",
    "    rooms[r].draw(mc, *util.to_world(roomid,0,0), rot=0)\n",
    "    corridor.draw_corridor(mc, *util.to_world(roomid,0,-1), rot=0, holes=[util.SOUTH, util.EAST, util.WEST])\n",
    "    mc.setBlockWithNBT(roomid*util.TILE_SIZE + 4, 1, -3, block.SIGN('', r, '', '', -45)) \n",
    "    mc.setBlockWithNBT(roomid*util.TILE_SIZE + 3, 1, -3, block.TORCH) \n",
    "    roomid += 1"
   ]
  },
  {
   "cell_type": "code",
   "execution_count": 7,
   "metadata": {},
   "outputs": [],
   "source": [
    "mc.player.setPos(5, 1, -6)"
   ]
  },
  {
   "cell_type": "code",
   "execution_count": 8,
   "metadata": {},
   "outputs": [],
   "source": [
    "walls = block.STAINED_GLASS_PINK\n",
    "name = 'new'\n",
    "\n",
    "room_keys = list(rooms.keys())\n",
    "coord = util.to_world(roomid,0,0)\n",
    "side = 9\n",
    "for x in np.arange(0, side, 1):\n",
    "    for y in np.arange(0, side, 1):\n",
    "        for z in np.arange(0, side, 1):\n",
    "            if x==0 or x==side-1 or y==0 or y==side-1 or z==0 or z==side-1:\n",
    "                mc.setBlock(float(coord[0])+x, float(coord[1])+y, float(coord[2])+z, walls)\n",
    "            else:\n",
    "                mc.setBlock(float(coord[0])+x, float(coord[1])+y, float(coord[2])+z, block.AIR)\n",
    "corridor.draw_corridor(mc, *util.to_world(roomid,0,-1), rot=0, holes=['x0', 'x1', 'z0', 'z1'])\n",
    "room_keys.append(name)\n",
    "roomid += 1"
   ]
  },
  {
   "cell_type": "code",
   "execution_count": 9,
   "metadata": {},
   "outputs": [
    {
     "name": "stdout",
     "output_type": "stream",
     "text": [
      "Processing sticker_room...\n",
      "Processing factory...\n",
      "Processing castle_dungeon...\n",
      "Processing dining...\n",
      "Processing school...\n",
      "Processing war_room...\n",
      "Processing miners_cave...\n",
      "Processing pokemon_room...\n",
      "Processing dice_room...\n",
      "Processing spider_room...\n",
      "Processing library...\n",
      "Processing lazerforce...\n",
      "Processing castle...\n",
      "Processing swimming_pool...\n",
      "Processing bathroom...\n",
      "Processing train_station...\n",
      "Processing bank...\n",
      "Processing clothes_shop...\n",
      "Processing new...\n",
      "{'new': <mineworld.room.Room object at 0x7fae2e07e230>, 'sticker_room': <mineworld.room.Room object at 0x7fae2e097520>, 'factory': <mineworld.room.Room object at 0x7fae2e0c0850>, 'castle_dungeon': <mineworld.room.Room object at 0x7fae2e0d9b40>, 'dining': <mineworld.room.Room object at 0x7fae2e0f2e30>, 'school': <mineworld.room.Room object at 0x7fae2e118160>, 'war_room': <mineworld.room.Room object at 0x7fae2e135450>, 'miners_cave': <mineworld.room.Room object at 0x7fae2e14a740>, 'pokemon_room': <mineworld.room.Room object at 0x7fae2e167a30>, 'dice_room': <mineworld.room.Room object at 0x7fae2e18cd60>, 'spider_room': <mineworld.room.Room object at 0x7fae2e1a6050>, 'library': <mineworld.room.Room object at 0x7fae2e1bf340>, 'lazerforce': <mineworld.room.Room object at 0x7fae2e1e0670>, 'castle': <mineworld.room.Room object at 0x7fae2e1fd960>, 'swimming_pool': <mineworld.room.Room object at 0x7fae2e212c50>, 'bathroom': <mineworld.room.Room object at 0x7fae2e233f40>, 'train_station': <mineworld.room.Room object at 0x7fae2e259270>, 'bank': <mineworld.room.Room object at 0x7fae2e26e560>, 'clothes_shop': <mineworld.room.Room object at 0x7fae2e28b850>}\n"
     ]
    }
   ],
   "source": [
    "x = 0\n",
    "for r in room_keys:\n",
    "    print('Processing %s...' % r)\n",
    "    coords = util.to_world(x,0,0)\n",
    "    side = 9\n",
    "    blocks = mc.getBlocksWithNBT(coords[0], coords[1], coords[2], coords[0]+side-1, coords[1]+side-1, coords[2]+side-1)\n",
    "    room_obj = room.Room(\n",
    "        name=r,\n",
    "        side=9,\n",
    "        door_style='left',\n",
    "        source_location=Vec3(x, 0, 0),\n",
    "        version=1,\n",
    "        blocks=blocks,\n",
    "    )\n",
    "    room_obj.write(dir='rooms2')\n",
    "    x += 1\n",
    "\n",
    "rooms2 = {}\n",
    "for rf in glob.glob(\"rooms2/*.pickle\"):\n",
    "    r = room.load_room(rf)\n",
    "    rooms2[r.name] = r\n",
    "print(rooms2)\n",
    "\n",
    "# Generate new images\n",
    "for r in rooms2:\n",
    "    rooms2[r].get_image_at_y().save('rooms2_images/%s.png' % r)\n"
   ]
  }
 ],
 "metadata": {
  "kernelspec": {
   "display_name": "Python 3.10.4 ('minecraft')",
   "language": "python",
   "name": "python3"
  },
  "language_info": {
   "codemirror_mode": {
    "name": "ipython",
    "version": 3
   },
   "file_extension": ".py",
   "mimetype": "text/x-python",
   "name": "python",
   "nbconvert_exporter": "python",
   "pygments_lexer": "ipython3",
   "version": "3.10.4"
  },
  "orig_nbformat": 4,
  "vscode": {
   "interpreter": {
    "hash": "e0745a661304f31fe2bdabf889b0472d26d75b8a28e959e0ad84c3c00161f010"
   }
  }
 },
 "nbformat": 4,
 "nbformat_minor": 2
}
