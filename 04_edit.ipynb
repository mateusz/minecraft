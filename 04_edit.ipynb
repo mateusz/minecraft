{
 "cells": [
  {
   "cell_type": "code",
   "execution_count": null,
   "metadata": {},
   "outputs": [],
   "source": []
  },
  {
   "cell_type": "code",
   "execution_count": 1,
   "metadata": {},
   "outputs": [
    {
     "name": "stdout",
     "output_type": "stream",
     "text": [
      "pygame 2.1.2 (SDL 2.0.18, Python 3.10.4)\n",
      "Hello from the pygame community. https://www.pygame.org/contribute.html\n"
     ]
    }
   ],
   "source": [
    "import pytmx\n",
    "import mineworld.util as util\n",
    "import mineworld.room as room\n",
    "import mineworld.corridor as corridor\n",
    "import os\n",
    "import glob\n",
    "import mcpi.minecraft as minecraft\n",
    "import mcpi.entity as entity\n",
    "import mcpi.block as block\n",
    "import numpy as np\n",
    "from mcpi.vec3 import Vec3\n",
    "\n",
    "mc = minecraft.Minecraft.create(address='192.168.1.38')"
   ]
  },
  {
   "cell_type": "code",
   "execution_count": 4,
   "metadata": {},
   "outputs": [
    {
     "name": "stdout",
     "output_type": "stream",
     "text": [
      "{'bank': <mineworld.room.Room object at 0x7f8e765b0a60>, 'bathroom': <mineworld.room.Room object at 0x7f8e765d4820>, 'castle': <mineworld.room.Room object at 0x7f8e765c4820>, 'castle_dungeon': <mineworld.room.Room object at 0x7f8e7659c370>, 'clothes_shop': <mineworld.room.Room object at 0x7f8e76595660>, 'dice_room': <mineworld.room.Room object at 0x7f8e763c9e40>, 'dining': <mineworld.room.Room object at 0x7f8e7638fc40>, 'factory': <mineworld.room.Room object at 0x7f8e76394f70>, 'lazerforce': <mineworld.room.Room object at 0x7f8e76391e40>, 'library': <mineworld.room.Room object at 0x7f8e763a24d0>, 'miners_cave': <mineworld.room.Room object at 0x7f8e7637b7c0>, 'pokemon_room': <mineworld.room.Room object at 0x7f8e76368e50>, 'school': <mineworld.room.Room object at 0x7f8e76350dc0>, 'spider_room': <mineworld.room.Room object at 0x7f8e763170d0>, 'sticker_room': <mineworld.room.Room object at 0x7f8e7631c400>, 'swimming_pool': <mineworld.room.Room object at 0x7f8e76318dc0>, 'train_station': <mineworld.room.Room object at 0x7f8e7630cdc0>, 'war_room': <mineworld.room.Room object at 0x7f8e763c3cd0>}\n"
     ]
    }
   ],
   "source": [
    "# gamerule doMobSpawning false\n",
    "\n",
    "rooms = {}\n",
    "files = list(glob.glob(\"rooms2/*.pickle\"))\n",
    "files.sort()\n",
    "for rf in files:\n",
    "    r = room.load_room(rf)\n",
    "    rooms[r.name] = r\n",
    "print(rooms)\n",
    "\n",
    "mc.setBlocks(0, 0, -util.TILE_SIZE, len(rooms)*10*util.TILE_SIZE, util.TILE_SIZE, 2*util.TILE_SIZE, block.STONE) \n",
    "roomid = 0\n",
    "for r in rooms:\n",
    "    rooms[r].draw(mc, *util.to_world(roomid,0,0), rot=0)\n",
    "    corridor.draw_corridor(mc, *util.to_world(roomid,0,-1), rot=0, holes=[util.SOUTH, util.EAST, util.WEST])\n",
    "    mc.setBlockWithNBT(roomid*util.TILE_SIZE + 4, 1, -3, block.SIGN('', r, '', '', -45)) \n",
    "    mc.setBlockWithNBT(roomid*util.TILE_SIZE + 3, 1, -3, block.TORCH) \n",
    "    roomid += 1"
   ]
  },
  {
   "cell_type": "code",
   "execution_count": 11,
   "metadata": {},
   "outputs": [],
   "source": [
    "mc.player.setPos(len(rooms)*util.TILE_SIZE-5, 1, -6)"
   ]
  },
  {
   "cell_type": "code",
   "execution_count": 12,
   "metadata": {},
   "outputs": [],
   "source": [
    "walls = block.STAINED_GLASS_PINK\n",
    "name = 'new'\n",
    "\n",
    "room_keys = list(rooms.keys())\n",
    "coord = util.to_world(roomid,0,0)\n",
    "side = 9\n",
    "mc.setBlocks(\n",
    "    float(coord[0]),\n",
    "    float(coord[1]),\n",
    "    float(coord[2])-util.TILE_SIZE,\n",
    "    float(coord[0])+util.TILE_SIZE-1,\n",
    "    float(coord[1])+util.TILE_SIZE-1,\n",
    "    float(coord[2])+(util.TILE_SIZE-1)*2,\n",
    "    block.STONE\n",
    ")\n",
    "for x in np.arange(0, side, 1):\n",
    "    for y in np.arange(0, side, 1):\n",
    "        for z in np.arange(0, side, 1):\n",
    "            if x==0 or x==side-1 or y==0 or y==side-1 or z==0 or z==side-1:\n",
    "                mc.setBlock(float(coord[0])+x, float(coord[1])+y, float(coord[2])+z, walls)\n",
    "            else:\n",
    "                mc.setBlock(float(coord[0])+x, float(coord[1])+y, float(coord[2])+z, block.AIR)\n",
    "corridor.draw_corridor(mc, *util.to_world(roomid,0,-1), rot=0, holes=[util.SOUTH, util.EAST, util.WEST])\n",
    "room_keys.append(name)\n",
    "roomid += 1"
   ]
  },
  {
   "cell_type": "code",
   "execution_count": 13,
   "metadata": {},
   "outputs": [
    {
     "name": "stdout",
     "output_type": "stream",
     "text": [
      "Processing bank...\n",
      "Processing bathroom...\n",
      "Processing castle...\n",
      "Processing castle_dungeon...\n",
      "Processing clothes_shop...\n",
      "Processing dice_room...\n",
      "Processing dining...\n",
      "Processing factory...\n",
      "Processing lazerforce...\n",
      "Processing library...\n",
      "Processing miners_cave...\n",
      "Processing pokemon_room...\n",
      "Processing school...\n",
      "Processing spider_room...\n",
      "Processing sticker_room...\n",
      "Processing swimming_pool...\n",
      "Processing train_station...\n",
      "Processing war_room...\n",
      "Processing new...\n",
      "{'new': <mineworld.room.Room object at 0x7f8e74012230>, 'sticker_room': <mineworld.room.Room object at 0x7f8e7401f520>, 'factory': <mineworld.room.Room object at 0x7f8e74034850>, 'castle_dungeon': <mineworld.room.Room object at 0x7f8e74045b40>, 'dining': <mineworld.room.Room object at 0x7f8e74052e30>, 'school': <mineworld.room.Room object at 0x7f8e7406c160>, 'war_room': <mineworld.room.Room object at 0x7f8e74079450>, 'miners_cave': <mineworld.room.Room object at 0x7f8e7408a740>, 'pokemon_room': <mineworld.room.Room object at 0x7f8e74097a30>, 'dice_room': <mineworld.room.Room object at 0x7f8e740b4d60>, 'spider_room': <mineworld.room.Room object at 0x7f8e740d2050>, 'library': <mineworld.room.Room object at 0x7f8e740e7340>, 'lazerforce': <mineworld.room.Room object at 0x7f8e76e14670>, 'castle': <mineworld.room.Room object at 0x7f8e76e31960>, 'swimming_pool': <mineworld.room.Room object at 0x7f8e76e46c50>, 'bathroom': <mineworld.room.Room object at 0x7f8e76e63f40>, 'train_station': <mineworld.room.Room object at 0x7f8e76e85270>, 'bank': <mineworld.room.Room object at 0x7f8e76ea2560>, 'clothes_shop': <mineworld.room.Room object at 0x7f8e76eb7850>}\n"
     ]
    }
   ],
   "source": [
    "x = 0\n",
    "for r in room_keys:\n",
    "    print('Processing %s...' % r)\n",
    "    coords = util.to_world(x,0,0)\n",
    "    side = 9\n",
    "    blocks = mc.getBlocksWithNBT(coords[0], coords[1], coords[2], coords[0]+side-1, coords[1]+side-1, coords[2]+side-1)\n",
    "    room_obj = room.Room(\n",
    "        name=r,\n",
    "        side=9,\n",
    "        door_style='left',\n",
    "        source_location=Vec3(x, 0, 0),\n",
    "        version=1,\n",
    "        blocks=blocks,\n",
    "    )\n",
    "    room_obj.write(dir='rooms2')\n",
    "    x += 1\n",
    "\n",
    "rooms2 = {}\n",
    "for rf in glob.glob(\"rooms2/*.pickle\"):\n",
    "    r = room.load_room(rf)\n",
    "    rooms2[r.name] = r\n",
    "print(rooms2)\n",
    "\n",
    "# Generate new images\n",
    "for r in rooms2:\n",
    "    rooms2[r].get_image_at_y().save('rooms2_images/%s.png' % r)\n"
   ]
  }
 ],
 "metadata": {
  "kernelspec": {
   "display_name": "Python 3.10.4 ('minecraft')",
   "language": "python",
   "name": "python3"
  },
  "language_info": {
   "codemirror_mode": {
    "name": "ipython",
    "version": 3
   },
   "file_extension": ".py",
   "mimetype": "text/x-python",
   "name": "python",
   "nbconvert_exporter": "python",
   "pygments_lexer": "ipython3",
   "version": "3.10.4"
  },
  "orig_nbformat": 4,
  "vscode": {
   "interpreter": {
    "hash": "e0745a661304f31fe2bdabf889b0472d26d75b8a28e959e0ad84c3c00161f010"
   }
  }
 },
 "nbformat": 4,
 "nbformat_minor": 2
}
