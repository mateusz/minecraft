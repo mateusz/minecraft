{
 "cells": [
  {
   "cell_type": "code",
   "execution_count": 2,
   "metadata": {},
   "outputs": [],
   "source": [
    "import scipy\n",
    "import matplotlib.pyplot as plt\n",
    "import numpy as np\n",
    "import random\n",
    "import time\n",
    "\n",
    "import mcpi.minecraft as minecraft\n",
    "import mcpi.entity as entity\n",
    "import mcpi.block as block\n",
    "\n",
    "import mineworld.util as util\n",
    "import mineworld.room as room\n",
    "import mineworld.corridor as corridor"
   ]
  },
  {
   "cell_type": "code",
   "execution_count": 64,
   "metadata": {},
   "outputs": [
    {
     "data": {
      "image/png": "[encoded data removed]",
      "text/plain": [
       "<Figure size 432x288 with 1 Axes>"
      ]
     },
     "metadata": {
      "needs_background": "light"
     },
     "output_type": "display_data"
    }
   ],
   "source": [
    "def inters_rv():\n",
    "    return round(scipy.stats.gamma.rvs(a=3, loc=0, scale=2) + 2.0)\n",
    "\n",
    "s = []\n",
    "for i in range(0,1000):\n",
    "    s.append(inters_rv())\n",
    "\n",
    "plt.hist(s)\n",
    "plt.show()"
   ]
  },
  {
   "cell_type": "code",
   "execution_count": 65,
   "metadata": {},
   "outputs": [
    {
     "name": "stdout",
     "output_type": "stream",
     "text": [
      "            ▪▪▪x▪▪▪▪x▪▪▪▪x▪▪▪            \n",
      "               ▪    ▪    ▪    ▪          \n",
      "               ▪    ▪x▪▪▪x▪▪▪ ▪          \n",
      "               ▪    ▪    ▪    ▪          \n",
      "            ▪▪▪▪▪▪▪▪x▪▪▪▪▪    ▪          \n",
      "                ▪▪  ▪    ▪    ▪          \n",
      "                ▪x▪▪▪    ▪    ▪          \n",
      "        ▪       ▪▪  ▪▪▪▪▪x▪▪▪▪x▪▪▪▪▪     \n",
      "        ▪       ▪▪  ▪    ▪  ▪ ▪    ▪     \n",
      "        ▪       ▪▪  ▪    ▪  ▪ ▪    ▪     \n",
      "        ▪       ▪▪▪▪x▪▪▪▪▪▪▪x▪▪    ▪     \n",
      "        ▪       ▪▪  ▪    ▪  ▪▪x▪▪▪▪x▪▪x  \n",
      "  ▪▪▪▪▪▪x▪▪▪    ▪x▪▪▪    ▪  ▪ ▪    ▪ ▪   \n",
      "      ▪ ▪       ▪▪  ▪    ▪  ▪ ▪    ▪ ▪   \n",
      "      ▪ ▪      ▪▪▪  ▪    ▪  ▪ ▪      ▪   \n",
      "      ▪ ▪    ▪▪x▪▪▪▪x▪▪▪▪x▪▪x▪▪      ▪   \n",
      "      ▪ ▪      ▪▪▪  ▪    ▪ ▪▪ ▪      ▪   \n",
      "      ▪ ▪      ▪▪▪  ▪    ▪ ▪▪ ▪      ▪   \n",
      "▪▪▪▪▪▪x▪x▪▪▪▪▪▪x▪▪  ▪    ▪ ▪▪ ▪      ▪   \n",
      "      ▪ ▪      ▪▪x▪▪x▪▪▪▪▪▪x▪▪x▪▪▪▪▪▪x▪▪▪\n",
      "      ▪ ▪      ▪▪▪▪xxx▪▪▪▪▪▪  ▪      ▪   \n",
      "▪▪▪▪▪▪▪▪x▪▪▪▪▪▪▪x▪▪▪x▪▪▪▪▪▪x▪▪▪      ▪   \n",
      "        ▪    ▪  ▪   ▪      ▪  ▪      ▪▪  \n",
      "        ▪    ▪  ▪   ▪      ▪  ▪      ▪▪  \n",
      "        ▪▪▪▪▪x▪▪▪   ▪      ▪▪▪x▪▪▪▪▪▪▪x▪▪\n",
      "        ▪    ▪  ▪   ▪      ▪  ▪       ▪  \n",
      "        ▪▪▪▪▪x▪▪▪▪▪▪x▪▪▪▪▪▪▪▪▪▪       ▪  \n",
      "        ▪    ▪      ▪         ▪       ▪  \n",
      "        ▪    ▪      ▪         ▪       ▪  \n",
      "        ▪    ▪      ▪         ▪          \n",
      "        ▪    ▪      ▪         ▪          \n",
      "        ▪    ▪      ▪         ▪          \n",
      "        ▪▪▪▪▪x▪▪▪▪▪▪▪         ▪          \n",
      "        ▪    ▪      ▪         ▪          \n",
      "        ▪    ▪      ▪                    \n",
      "        ▪    ▪      ▪                    \n",
      "             ▪      ▪                    \n",
      "             ▪      ▪                    \n",
      "           ▪▪x▪     ▪                    \n",
      "             ▪      ▪                    \n",
      "             ▪      ▪                    \n"
     ]
    }
   ],
   "source": [
    "verbose = False\n",
    "\n",
    "N = [0,-1]\n",
    "E = [1,0]\n",
    "S = [0,1]\n",
    "W = [-1,0]\n",
    "\n",
    "class Node:\n",
    "    def __init__(self, x, y, is_inters=False, is_plaza=False, orig_dist=0, inters_dist=0, neigh=[], parent=None):\n",
    "        self.x = x\n",
    "        self.y = y\n",
    "        self.is_inters = is_inters\n",
    "        self.orig_dist = orig_dist\n",
    "        self.inters_dist = inters_dist\n",
    "        self.neigh = neigh\n",
    "        self.parent = parent\n",
    "        self.is_plaza = False\n",
    "\n",
    "    def get_eligible(self):\n",
    "        parent_relative = None\n",
    "        if self.parent!=None:\n",
    "            parent_relative = [self.parent.x - self.x, self.parent.y - self.y]\n",
    "\n",
    "        if self.is_inters:\n",
    "            eligible = [N, E, S, W]\n",
    "        else:\n",
    "            # Only straight - calculate node opposite parent\n",
    "            eligible = [[parent_relative[0] * -1, parent_relative[1] * -1]]\n",
    "\n",
    "        for n in self.neigh:\n",
    "            neigh = [n.x - self.x, n.y - self.y]\n",
    "            if neigh in eligible:\n",
    "                eligible.remove(neigh)\n",
    "        if parent_relative in eligible:\n",
    "            eligible.remove(parent_relative)\n",
    "        \n",
    "        return eligible\n",
    "\n",
    "    def coord_str(self):\n",
    "        return('(%d,%d)' % (self.x, self.y))\n",
    "\n",
    "    def __str__(self):\n",
    "        return '(%d,%d,n=%d,od=%d,id=%d) <= %s' % (self.x, self.y, len(self.neigh), self.orig_dist, self.inters_dist, self.parent)\n",
    "\n",
    "def draw_map(existing, origin=None, new=None):\n",
    "    for y in range(-20,21):\n",
    "        for x in range(-20,21):\n",
    "            if origin!=None and origin.x==x and origin.y==y:\n",
    "                    print('o', end='')\n",
    "            elif new!=None and new.x==x and new.y==y:\n",
    "                    print('+', end='')\n",
    "            elif '(%d,%d)' % (x,y) in existing:\n",
    "                n = existing['(%d,%d)' % (x,y)]\n",
    "                if n.is_inters:\n",
    "                    print('x', end='')\n",
    "                else:\n",
    "                    print('▪', end='')\n",
    "            else:\n",
    "                print(' ', end='')\n",
    "        print('')\n",
    "\n",
    "def generate(existing, origins, wiggle, steps, inters_rv, plaza_p, long_road_p):\n",
    "    for o in origins:\n",
    "        existing[o.coord_str()] = o\n",
    "\n",
    "    for i in range(0,steps):\n",
    "        if verbose:\n",
    "            print(\"\\nIteration %d\" % i)\n",
    "        min_od = None\n",
    "        od = 0\n",
    "\n",
    "        candidates = []\n",
    "        search = origins\n",
    "        while min_od==None or od<min_od+wiggle-1:\n",
    "            adj = []\n",
    "            od += 1\n",
    "            for n in search:\n",
    "                if verbose:\n",
    "                    print('Visiting %s' % n)\n",
    "                for a in n.neigh:\n",
    "                    if verbose:\n",
    "                        print('New search: %s' % a)\n",
    "                    adj.append(a)\n",
    "                    existing[a.coord_str()] = a\n",
    "\n",
    "                eligible = n.get_eligible()\n",
    "                for c in eligible:\n",
    "                    if '(%d,%d)' % (n.x+c[0], n.y+c[1]) in existing:\n",
    "                        continue\n",
    "\n",
    "                    if min_od==None:\n",
    "                        min_od = n.orig_dist+1\n",
    "\n",
    "                    cand = Node(\n",
    "                        n.x+c[0],\n",
    "                        n.y+c[1],\n",
    "                        orig_dist=n.orig_dist+1,\n",
    "                        inters_dist=n.inters_dist+1,\n",
    "                        parent=n,\n",
    "                        neigh=[],\n",
    "                    )\n",
    "\n",
    "                    if verbose:\n",
    "                        print('Found canditate: %s' % cand)\n",
    "                    candidates.append(cand)\n",
    "                \n",
    "            search = adj\n",
    "\n",
    "        if len(candidates)==0:\n",
    "            if verbose:\n",
    "                print('No candidates found')\n",
    "            break \n",
    "\n",
    "        new = np.random.choice(candidates)\n",
    "        if new.inters_dist>=inters_rv():\n",
    "            new.is_inters = True\n",
    "            if random.uniform(0.0,1.0)<plaza_p:\n",
    "                # Plaza - this triggers intersections on the next tile\n",
    "                new.inters_dist = 100\n",
    "            else:\n",
    "                new.inters_dist = 0\n",
    "        else:\n",
    "            if random.uniform(0.0, 1.0)<long_road_p:\n",
    "                # Long road from here\n",
    "                new.inters_dist = new.inters_dist-10\n",
    "\n",
    "        if verbose:\n",
    "            print('Adding node: %s' % new)\n",
    "        new.parent.neigh.append(new)\n",
    "        existing[new.coord_str()] = new\n",
    "\n",
    "existing = {}\n",
    "generate(existing, origins=[Node(0,0,is_inters=True,inters_dist=100)], wiggle=5, steps=500, inters_rv=inters_rv, plaza_p=0.05, long_road_p=0.05)\n",
    "draw_map(existing)\n"
   ]
  },
  {
   "cell_type": "code",
   "execution_count": 28,
   "metadata": {},
   "outputs": [],
   "source": [
    "mc = minecraft.Minecraft.create(address='127.0.0.1')"
   ]
  },
  {
   "cell_type": "code",
   "execution_count": 58,
   "metadata": {},
   "outputs": [
    {
     "name": "stdout",
     "output_type": "stream",
     "text": [
      "Vec3(-27.983421570138034,1.0,2.784875734273669)\n",
      "Cleaning up\n",
      "Done cleaning\n"
     ]
    }
   ],
   "source": [
    "print(mc.player.getPos())\n",
    "\n",
    "print('Cleaning up')\n",
    "mc.setBlocks(-20*util.TILE_SIZE, -10, -20*util.TILE_SIZE, 20*util.TILE_SIZE, 20, 20*util.TILE_SIZE, block.AIR) \n",
    "time.sleep(30)\n",
    "mc.setBlocks(-20*util.TILE_SIZE, -10, -20*util.TILE_SIZE, 20*util.TILE_SIZE, 20, 20*util.TILE_SIZE, block.STONE) \n",
    "print('Done cleaning')\n",
    "time.sleep(30)"
   ]
  },
  {
   "cell_type": "code",
   "execution_count": 59,
   "metadata": {},
   "outputs": [
    {
     "name": "stdout",
     "output_type": "stream",
     "text": [
      "DrawingFinished!\n"
     ]
    }
   ],
   "source": [
    "hole_map = {\n",
    "    '(%d,%d)' % (N[0], N[1]): util.NORTH,\n",
    "    '(%d,%d)' % (E[0], E[1]): util.EAST,\n",
    "    '(%d,%d)' % (S[0], S[1]): util.SOUTH,\n",
    "    '(%d,%d)' % (W[0], W[1]): util.WEST,\n",
    "}\n",
    "\n",
    "playerMoved = False\n",
    "print('Drawing...')\n",
    "for ek in existing:\n",
    "    e = existing[ek]\n",
    "    holes = []\n",
    "    for dir in [N,E,S,W]:\n",
    "        if '(%d,%d)' % (e.x+dir[0], e.y+dir[1]) in existing:\n",
    "            holes.append(hole_map['(%d,%d)' % (dir[0], dir[1])])\n",
    "    \n",
    "    corridor.draw_corridor(mc, *util.to_world(e.x, 0, e.y), holes=holes)\n",
    "    if not playerMoved:\n",
    "        playerMoved = True\n",
    "        pp = util.to_world(e.x, 0, e.y)\n",
    "        mc.player.setPos(pp[0]+5, pp[1]+1, pp[2]+5)\n",
    "\n",
    "print('Finished!')"
   ]
  }
 ],
 "metadata": {
  "kernelspec": {
   "display_name": "Python 3.10.4 ('minecraft')",
   "language": "python",
   "name": "python3"
  },
  "language_info": {
   "codemirror_mode": {
    "name": "ipython",
    "version": 3
   },
   "file_extension": ".py",
   "mimetype": "text/x-python",
   "name": "python",
   "nbconvert_exporter": "python",
   "pygments_lexer": "ipython3",
   "version": "3.10.4"
  },
  "orig_nbformat": 4,
  "vscode": {
   "interpreter": {
    "hash": "22cd90efa0dfb1a40c6e9c9400eae5d68ed3e96d7fe16066520f08f1d376762a"
   }
  }
 },
 "nbformat": 4,
 "nbformat_minor": 2
}
