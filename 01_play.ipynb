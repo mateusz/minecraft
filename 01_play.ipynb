{
 "cells": [
  {
   "cell_type": "code",
   "execution_count": null,
   "metadata": {},
   "outputs": [],
   "source": []
  },
  {
   "cell_type": "code",
   "execution_count": 13,
   "metadata": {},
   "outputs": [],
   "source": [
    "import mcpi.minecraft as minecraft\n",
    "import mcpi.block as block\n",
    "import mcpi.entity as entity\n",
    "import numpy as np\n",
    "import random"
   ]
  },
  {
   "cell_type": "code",
   "execution_count": 14,
   "metadata": {},
   "outputs": [],
   "source": [
    "mc = minecraft.Minecraft.create(address='192.168.1.100')"
   ]
  },
  {
   "cell_type": "code",
   "execution_count": 60,
   "metadata": {},
   "outputs": [
    {
     "name": "stderr",
     "output_type": "stream",
     "text": [
      "Drained Data: <b'Fail'>\n",
      "Last Message: <b'player.setting(gamemode,1)'>\n"
     ]
    }
   ],
   "source": []
  },
  {
   "cell_type": "code",
   "execution_count": 58,
   "metadata": {},
   "outputs": [],
   "source": [
    "def make_diamond_castle():\n",
    "    p = mc.player.getPos()\n",
    "    side = 30\n",
    "    for x in np.arange(0, side, 1):\n",
    "        for y in np.arange(0, side, 1):\n",
    "            for z in np.arange(0, side, 1):\n",
    "                if random.randint(0, 10)>=7:\n",
    "                    pass\n",
    "                elif x%7==6 or y%7==0 or z%7==6:\n",
    "                    mc.setBlock(p.x+x+1, p.y+y, p.z+z, block.DIAMOND_BLOCK)\n",
    "                elif random.randint(0, 10)==10:\n",
    "                    mc.setBlock(p.x+x+1, p.y+y, p.z+z, block.GLOWSTONE_BLOCK)\n",
    "\n",
    "                if random.randint(0, 100)==0:\n",
    "                    mc.setBlock(p.x+x+1, p.y+y, p.z+z, block.CHEST)\n",
    "                if random.randint(0, 1000)==1:\n",
    "                    mc.setBlock(p.x+x+1, p.y+y, p.z+z, block.LAVA_FLOWING)\n",
    "                    \n",
    "make_diamond_castle()"
   ]
  },
  {
   "cell_type": "code",
   "execution_count": null,
   "metadata": {},
   "outputs": [],
   "source": [
    "p = mc.player.getPos()\n",
    "side = 30\n",
    "for x in np.arange(0, side, 1):\n",
    "    for y in np.arange(0, side, 1):\n",
    "        for z in np.arange(0, side, 1):\n",
    "            if x==0 or x==side-1 or y==0 or y==side-1 or z==0 or z==side-1:\n",
    "                mc.setBlock(p.x+x+10, p.y+y, p.z+z, block.GLASS)\n",
    "            else:\n",
    "                mc.setBlock(p.x+x+10, p.y+y, p.z+z, block.WATER)\n",
    "\n",
    "\n"
   ]
  },
  {
   "cell_type": "code",
   "execution_count": 61,
   "metadata": {},
   "outputs": [],
   "source": [
    "\n",
    "pchest = mc.player.getPos()\n",
    "mc.setBlock(pchest.x, pchest.y, pchest.z, block.CHEST)"
   ]
  },
  {
   "cell_type": "code",
   "execution_count": 31,
   "metadata": {},
   "outputs": [
    {
     "data": {
      "text/plain": [
       "361872"
      ]
     },
     "execution_count": 31,
     "metadata": {},
     "output_type": "execute_result"
    }
   ],
   "source": [
    "p = mc.player.getTilePos()\n",
    "p.x = p.x+5\n",
    "mc.spawnEntity('Item', p, '{Item:{id:\"minecraft:chest\",Count:1}}')"
   ]
  },
  {
   "cell_type": "code",
   "execution_count": 32,
   "metadata": {},
   "outputs": [
    {
     "data": {
      "text/plain": [
       "362008"
      ]
     },
     "execution_count": 32,
     "metadata": {},
     "output_type": "execute_result"
    }
   ],
   "source": [
    "p = mc.player.getTilePos()\n",
    "mc.spawnEntity('creeper', p.x+4, p.y, p.z, \"{}\")"
   ]
  }
 ],
 "metadata": {
  "kernelspec": {
   "display_name": "Python 3.10.4 ('minecraft')",
   "language": "python",
   "name": "python3"
  },
  "language_info": {
   "codemirror_mode": {
    "name": "ipython",
    "version": 3
   },
   "file_extension": ".py",
   "mimetype": "text/x-python",
   "name": "python",
   "nbconvert_exporter": "python",
   "pygments_lexer": "ipython3",
   "version": "3.10.4"
  },
  "orig_nbformat": 4,
  "vscode": {
   "interpreter": {
    "hash": "e0745a661304f31fe2bdabf889b0472d26d75b8a28e959e0ad84c3c00161f010"
   }
  }
 },
 "nbformat": 4,
 "nbformat_minor": 2
}
