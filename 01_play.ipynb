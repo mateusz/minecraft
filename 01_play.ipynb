{
 "cells": [
  {
   "cell_type": "code",
   "execution_count": null,
   "metadata": {},
   "outputs": [],
   "source": []
  },
  {
   "cell_type": "code",
   "execution_count": 1,
   "metadata": {},
   "outputs": [],
   "source": [
    "import mcpi.minecraft as minecraft\n",
    "import mcpi.block as block\n",
    "import mcpi.entity as entity\n",
    "import numpy as np\n",
    "import random"
   ]
  },
  {
   "cell_type": "code",
   "execution_count": 2,
   "metadata": {},
   "outputs": [],
   "source": [
    "mc = minecraft.Minecraft.create(address='192.168.1.100')"
   ]
  },
  {
   "cell_type": "code",
   "execution_count": 14,
   "metadata": {},
   "outputs": [],
   "source": [
    "def is_wall(x, y, z, room_size, bldg_size):\n",
    "    if x%room_size==0 or x==bldg_size:\n",
    "        return True\n",
    "    if y%room_size==0 or y==bldg_size:\n",
    "        return True\n",
    "    if z%room_size==0 or z==bldg_size:\n",
    "        return True\n",
    "\n",
    "    return False\n",
    "\n",
    "def make_diamond_castle():\n",
    "    p = mc.player.getPos()\n",
    "    side = 30\n",
    "    for x in np.arange(0, side+1, 1):\n",
    "        for y in np.arange(0, side+1, 1):\n",
    "            for z in np.arange(0, side+1, 1):\n",
    "                if random.randint(0, 10)>=7:\n",
    "                    pass\n",
    "                elif is_wall(x, y, z, 10, 30):\n",
    "                    which = random.randint(0, 10)\n",
    "                    if which>8:\n",
    "                        mc.setBlock(p.x+x+1, p.y+y, p.z+z, block.STONE_BRICK_CRACKED)\n",
    "                    elif which>6:\n",
    "                        mc.setBlock(p.x+x+1, p.y+y, p.z+z, block.STONE_BRICK_MOSSY)\n",
    "                    else:\n",
    "                        mc.setBlock(p.x+x+1, p.y+y, p.z+z, block.STONE_BRICK)\n",
    "                elif random.randint(0, 10)==10:\n",
    "                    mc.setBlock(p.x+x+1, p.y+y, p.z+z, block.GLOWSTONE_BLOCK)\n",
    "\n",
    "                if random.randint(0, 500)==0:\n",
    "                    diamond_c = random.randint(0,16)-12\n",
    "                    if diamond_c<0:\n",
    "                        diamond_c = 0\n",
    "                    chicken_c = random.randint(0,8)-4\n",
    "                    if chicken_c<0:\n",
    "                        chicken_c = 0\n",
    "\n",
    "                    nbt = '{Items:[{Slot:0b,id:\"minecraft:diamond\",Count:%db,Damage:0s},{Slot:1b,id:\"minecraft:cooked_chicken\",Count:%db,Damage:0s}],id:\"minecraft:chest\",Lock:\"\"}' % (diamond_c, chicken_c)\n",
    "                    mc.setBlockWithNBT(p.x+x+1, p.y+y, p.z+z, block.CHEST, nbt)\n",
    "                if random.randint(0, 5000)==1:\n",
    "                    mc.setBlock(p.x+x+1, p.y+y, p.z+z, block.LAVA_FLOWING)\n",
    "                    \n",
    "make_diamond_castle()"
   ]
  }
 ],
 "metadata": {
  "kernelspec": {
   "display_name": "Python 3.10.4 ('minecraft')",
   "language": "python",
   "name": "python3"
  },
  "language_info": {
   "codemirror_mode": {
    "name": "ipython",
    "version": 3
   },
   "file_extension": ".py",
   "mimetype": "text/x-python",
   "name": "python",
   "nbconvert_exporter": "python",
   "pygments_lexer": "ipython3",
   "version": "3.10.4"
  },
  "orig_nbformat": 4,
  "vscode": {
   "interpreter": {
    "hash": "e0745a661304f31fe2bdabf889b0472d26d75b8a28e959e0ad84c3c00161f010"
   }
  }
 },
 "nbformat": 4,
 "nbformat_minor": 2
}
