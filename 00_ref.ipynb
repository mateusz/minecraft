{
 "cells": [
  {
   "cell_type": "code",
   "execution_count": null,
   "metadata": {},
   "outputs": [],
   "source": []
  },
  {
   "cell_type": "code",
   "execution_count": 2,
   "metadata": {},
   "outputs": [],
   "source": [
    "import mcpi.minecraft as minecraft\n",
    "import mcpi.block as block\n",
    "import mcpi.entity as entity"
   ]
  },
  {
   "cell_type": "code",
   "execution_count": 3,
   "metadata": {},
   "outputs": [],
   "source": [
    "mc = minecraft.Minecraft.create(address='192.168.1.100')"
   ]
  },
  {
   "cell_type": "code",
   "execution_count": 4,
   "metadata": {},
   "outputs": [],
   "source": [
    "pchest = mc.player.getTilePos()\n",
    "# Requires modified version of mcpi\n",
    "mc.setBlockWithNBT(pchest, block.CHEST, '{Items:[{Slot:0b,id:\"minecraft:diamond\",Count:1b,Damage:0s}],id:\"minecraft:chest\",Lock:\"\"}')"
   ]
  },
  {
   "cell_type": "code",
   "execution_count": 7,
   "metadata": {},
   "outputs": [
    {
     "data": {
      "text/plain": [
       "371701"
      ]
     },
     "execution_count": 7,
     "metadata": {},
     "output_type": "execute_result"
    }
   ],
   "source": [
    "p = mc.player.getTilePos()\n",
    "p.x = p.x+5\n",
    "mc.spawnEntity('Item', p, '{Item:{id:\"minecraft:book\",Count:1}}')"
   ]
  },
  {
   "cell_type": "code",
   "execution_count": 25,
   "metadata": {},
   "outputs": [
    {
     "data": {
      "text/plain": [
       "376884"
      ]
     },
     "execution_count": 25,
     "metadata": {},
     "output_type": "execute_result"
    }
   ],
   "source": [
    "p = mc.player.getTilePos()\n",
    "# entity.CREEPER requires modified mcpi, otherwise 'creeper'\n",
    "# https://www.sirknightj.com/blog/2018/06/28/how-to-summon-mobs-riding-mobs-minecraft/\n",
    "mc.spawnEntity(entity.SKELETON, p.x+4, p.y, p.z, '{HandItems:[{id:arrow,Count:1},{id:arrow,Count:1}],Glowing:1}')"
   ]
  },
  {
   "cell_type": "code",
   "execution_count": 26,
   "metadata": {},
   "outputs": [
    {
     "data": {
      "text/plain": [
       "377241"
      ]
     },
     "execution_count": 26,
     "metadata": {},
     "output_type": "execute_result"
    }
   ],
   "source": [
    "# Doesn't work shrug, test with minecraft directly\n",
    "mc.spawnEntity(entity.SPIDER, p.x+4, p.y, p.z, '{Passengers:[{id:Skeleton,HandItems:[{id:bow,Count:1}]}]}')\n",
    "mc.spawnEntity(entity.CHICKEN, p.x+5, p.y, p.z, '{Passengers:[{id:zombie,IsBaby:1}]}')"
   ]
  }
 ],
 "metadata": {
  "kernelspec": {
   "display_name": "Python 3.8.13 64-bit",
   "language": "python",
   "name": "python3"
  },
  "language_info": {
   "codemirror_mode": {
    "name": "ipython",
    "version": 3
   },
   "file_extension": ".py",
   "mimetype": "text/x-python",
   "name": "python",
   "nbconvert_exporter": "python",
   "pygments_lexer": "ipython3",
   "version": "3.8.13"
  },
  "orig_nbformat": 4,
  "vscode": {
   "interpreter": {
    "hash": "1ee38ef4a5a9feb55287fd749643f13d043cb0a7addaab2a9c224cbe137c0062"
   }
  }
 },
 "nbformat": 4,
 "nbformat_minor": 2
}
