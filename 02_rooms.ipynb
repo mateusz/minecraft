{
 "cells": [
  {
   "cell_type": "code",
   "execution_count": null,
   "metadata": {},
   "outputs": [],
   "source": []
  },
  {
   "cell_type": "code",
   "execution_count": 47,
   "metadata": {},
   "outputs": [],
   "source": [
    "import mcpi.minecraft as minecraft\n",
    "import mcpi.block as block\n",
    "import mcpi.entity as entity\n",
    "from mcpi.vec3 import Vec3\n",
    "import numpy as np\n",
    "import random\n",
    "import pickle\n",
    "import glob\n",
    "import time\n",
    "import os\n",
    "from PIL import Image\n",
    "\n",
    "DIR_X1 = 1\n",
    "DIR_X0 = 2\n",
    "DIR_Z1 = 3\n",
    "DIR_Z0 = 4\n",
    "DIR_UP = 5"
   ]
  },
  {
   "cell_type": "code",
   "execution_count": 23,
   "metadata": {},
   "outputs": [],
   "source": [
    "def load_room(path):\n",
    "    with open(path, 'rb') as f:\n",
    "        spec = pickle.load(f)\n",
    "        return Room(\n",
    "            name=spec['name'],\n",
    "            side=spec['side'],\n",
    "            door_style=spec['door_style'],\n",
    "            source_location=spec['source_location'],\n",
    "            version=spec['version'],\n",
    "            blocks=spec['blocks'],\n",
    "        )\n",
    "\n",
    "class Room:\n",
    "    def __init__(self, name, side, door_style, source_location, version, blocks):\n",
    "        self.name = name\n",
    "        self.side = side\n",
    "        self.door_style = door_style\n",
    "        self.source_location = source_location\n",
    "        self.version = version\n",
    "        self.blocks = blocks\n",
    "\n",
    "    def draw(self, x, y, z):\n",
    "        seconds = [\n",
    "            block.TORCH[0],\n",
    "            block.REDSTONE_TORCH_INACTIVE[0],\n",
    "            block.REDSTONE_TORCH_ACTIVE[0],\n",
    "            block.DOOR_ACACIA[0],\n",
    "            block.DOOR_BIRCH[0],\n",
    "            block.DOOR_DARK_OAK[0],\n",
    "            block.DOOR_IRON[0],\n",
    "            block.DOOR_JUNGLE[0],\n",
    "            block.DOOR_SPRUCE[0],\n",
    "            block.DOOR_WOOD[0],\n",
    "            (block.SIGN())[0],\n",
    "            block.CARPET[0],\n",
    "        ]\n",
    "\n",
    "        i = 0\n",
    "        for y in np.arange(0, self.side, 1):\n",
    "            for x in np.arange(0, self.side, 1):\n",
    "                for z in np.arange(0, self.side, 1):\n",
    "                    #mc.setBlockWithNBT(0.0+x, 0.0+y, 0.0+z, self.blocks[i])\n",
    "                    #i += 1\n",
    "                    b = self.blocks[i]\n",
    "                    if b[0] not in seconds:\n",
    "                        mc.setBlockWithNBT(0.0+x, 0.0+y, 0.0+z, b)\n",
    "                    i += 1\n",
    "        \n",
    "        i = 0\n",
    "        for y in np.arange(0, self.side, 1):\n",
    "            for x in np.arange(0, self.side, 1):\n",
    "                for z in np.arange(0, self.side, 1):\n",
    "                    b = self.blocks[i]\n",
    "                    if b[0] in seconds:\n",
    "                        mc.setBlockWithNBT(0.0+x, 0.0+y, 0.0+z, b)\n",
    "                    i += 1\n",
    "\n",
    "    def get_block_at(self,x,y,z):\n",
    "        return self.blocks[y*self.side*self.side+x*self.side+z]\n",
    "    \n",
    "    def get_image_at_y(self, y=1):\n",
    "        pixels = []\n",
    "        for x in np.arange(0, self.side, 1):\n",
    "            for z in np.arange(0, self.side, 1):\n",
    "                px = self.get_block_at(x,y,z).getRGBA()\n",
    "                pixels.append([px[0], px[1], px[2]])\n",
    "\n",
    "        pixels = np.array(pixels, dtype=np.uint8).reshape((9,9,3))\n",
    "        return Image.fromarray(pixels)\n",
    "\n",
    "    def write(self, dir='rooms'):\n",
    "        with open('%s/%s.pickle' % (dir, r), 'wb') as f:\n",
    "            pickle.dump({\n",
    "                'name': self.name,\n",
    "                'side': self.side,\n",
    "                'door_style': self.door_style,\n",
    "                'source_location': self.source_location,\n",
    "                'version': self.version,\n",
    "                'blocks': self.blocks,\n",
    "            }, f)"
   ]
  },
  {
   "cell_type": "code",
   "execution_count": 58,
   "metadata": {},
   "outputs": [
    {
     "data": {
      "text/plain": [
       "63"
      ]
     },
     "execution_count": 58,
     "metadata": {},
     "output_type": "execute_result"
    }
   ],
   "source": []
  },
  {
   "cell_type": "code",
   "execution_count": 12,
   "metadata": {},
   "outputs": [],
   "source": [
    "mc = minecraft.Minecraft.create(address='192.168.1.100')"
   ]
  },
  {
   "cell_type": "code",
   "execution_count": 28,
   "metadata": {},
   "outputs": [],
   "source": [
    "side = 9\n",
    "p = mc.player.getPos()\n",
    "p.y = p.y-1\n",
    "for x in np.arange(0, side, 1):\n",
    "    for y in np.arange(0, side, 1):\n",
    "        for z in np.arange(0, side, 1):\n",
    "            if x==0 or x==side-1 or y==0 or y==side-1 or z==0 or z==side-1:\n",
    "                mc.setBlock(p.x+x, p.y+y, p.z+z, block.STONE)\n",
    "                \n"
   ]
  },
  {
   "cell_type": "code",
   "execution_count": 14,
   "metadata": {},
   "outputs": [],
   "source": [
    "#print(p)\n",
    "coords = {}\n",
    "coords['bathroom'] = Vec3(171,0,158)\n",
    "coords['dining'] = Vec3(319,-1,137)\n",
    "coords['library'] = Vec3(336, -1, 96)\n",
    "coords['factory'] = Vec3(366, -1, 75)\n",
    "coords['clothes_shop'] = Vec3(399, -1, 48)\n",
    "coords['swimming_pool'] = Vec3(377, -1, -33)\n",
    "coords['school'] = Vec3(364, -1, -113)\n",
    "coords['lazerforce'] = Vec3(359, -1, -101)\n",
    "coords['train_station'] = Vec3(341, -1, -64)\n",
    "coords['castle'] = Vec3(260, -1, -92)\n",
    "coords['spider_room'] = Vec3(240, -1, -50)\n",
    "coords['sticker_room'] = Vec3(287, -1, -37)\n",
    "coords['castle_dungeon'] = Vec3(267, -1, -1)\n",
    "coords['war_room'] = Vec3(414, -1, -73)\n",
    "coords['bank'] = Vec3(439, -1, -121)\n",
    "coords['pokemon_room'] = Vec3(454, -1, -84)\n",
    "coords['dice_room'] = Vec3(415, -1, -105)\n",
    "coords['miners_cave'] = Vec3(387, -1, -74)"
   ]
  },
  {
   "cell_type": "code",
   "execution_count": 47,
   "metadata": {},
   "outputs": [
    {
     "name": "stdout",
     "output_type": "stream",
     "text": [
      "Processing bathroom...\n",
      "Processing dining...\n",
      "Processing library...\n",
      "Processing factory...\n",
      "Processing clothes_shop...\n",
      "Processing swimming_pool...\n",
      "Processing school...\n",
      "Processing lazerforce...\n",
      "Processing train_station...\n",
      "Processing castle...\n",
      "Processing spider_room...\n",
      "Processing sticker_room...\n",
      "Processing castle_dungeon...\n",
      "Processing war_room...\n",
      "Processing bank...\n",
      "Processing pokemon_room...\n",
      "Processing dice_room...\n",
      "Processing miners_cave...\n"
     ]
    }
   ],
   "source": [
    "for r in coords.keys():\n",
    "    print('Processing %s...' % r)\n",
    "    side = 9\n",
    "    blocks = mc.getBlocksWithNBT(coords[r].x, coords[r].y, coords[r].z, coords[r].x+side-1, coords[r].y+side-1, coords[r].z+side-1)\n",
    "    room_obj = Room(\n",
    "        name=r,\n",
    "        side=9,\n",
    "        door_style='middle',\n",
    "        source_location=coords[r],\n",
    "        version=1,\n",
    "        blocks=blocks,\n",
    "    )\n",
    "    with open('rooms/%s.pickle' % r, 'wb') as f:\n",
    "        room_obj.write()\n",
    "\n"
   ]
  },
  {
   "cell_type": "code",
   "execution_count": 24,
   "metadata": {},
   "outputs": [],
   "source": [
    "rooms = {}\n",
    "for rf in glob.glob(\"rooms/*.pickle\"):\n",
    "    room = load_room(rf)\n",
    "    rooms[room.name] = room\n"
   ]
  },
  {
   "cell_type": "code",
   "execution_count": 49,
   "metadata": {},
   "outputs": [],
   "source": [
    "for r in rooms.keys():\n",
    "    rooms[r].get_image_at_y().save('rooms_images/%s.png' % r)"
   ]
  },
  {
   "cell_type": "code",
   "execution_count": 28,
   "metadata": {},
   "outputs": [],
   "source": [
    "rooms['dining'].draw(0,0,0)"
   ]
  },
  {
   "cell_type": "code",
   "execution_count": 64,
   "metadata": {},
   "outputs": [],
   "source": [
    "cp = mc.player.getPos()\n",
    "mc.player.setPos(-1, 0, -1)\n"
   ]
  },
  {
   "cell_type": "code",
   "execution_count": 46,
   "metadata": {},
   "outputs": [],
   "source": [
    "mc.player.setPos(cp)"
   ]
  },
  {
   "cell_type": "code",
   "execution_count": 158,
   "metadata": {},
   "outputs": [],
   "source": []
  },
  {
   "cell_type": "code",
   "execution_count": 129,
   "metadata": {},
   "outputs": [],
   "source": [
    "i = 0\n",
    "for y in np.arange(0, side, 1):\n",
    "    for x in np.arange(0, side, 1):\n",
    "        for z in np.arange(0, side, 1):\n",
    "            mc.setBlockWithNBT(0.0+x, 0.0+y, 0.0+z, rooms['factory']['blocks'][i])\n",
    "            i += 1"
   ]
  },
  {
   "cell_type": "code",
   "execution_count": 57,
   "metadata": {},
   "outputs": [
    {
     "name": "stdout",
     "output_type": "stream",
     "text": [
      "y0\n"
     ]
    }
   ],
   "source": [
    "def corridor_maker(cx,cy,cz,holes=[]):\n",
    "    side = 9\n",
    "    is_hole = {\n",
    "        'x0': lambda x,y,z: x==0 and y!=0 and y!=side-1 and z!=0 and z!=side-1,\n",
    "        'x1': lambda x,y,z: x==side-1 and y!=0 and y!=side-1 and z!=0 and z!=side-1,\n",
    "        'y0': lambda x,y,z: y==0 and x!=0 and x!=side-1 and z!=0 and z!=side-1,\n",
    "        'y1': lambda x,y,z: y==side-1 and x!=0 and x!=side-1 and z!=0 and z!=side-1,\n",
    "        'z0': lambda x,y,z: z==0 and y!=0 and y!=side-1 and x!=0 and x!=side-1,\n",
    "        'z1': lambda x,y,z: z==side-1 and y!=0 and y!=side-1 and x!=0 and x!=side-1,\n",
    "    }\n",
    "\n",
    "    for x in np.arange(0, side, 1):\n",
    "        for y in np.arange(0, side, 1):\n",
    "            for z in np.arange(0, side, 1):\n",
    "                mc.setBlock(cx+x, cy+y, cz+z, block.AIR)\n",
    "\n",
    "    for x in np.arange(0, side, 1):\n",
    "        for y in np.arange(0, side, 1):\n",
    "            for z in np.arange(0, side, 1):\n",
    "                wall = False\n",
    "                if x==0 or x==side-1 or y==0 or y==side-1 or z==0 or z==side-1:\n",
    "                    wall = True\n",
    "                for hole in holes:\n",
    "                    if is_hole[hole](x,y,z):\n",
    "                        wall = False\n",
    "                if wall:\n",
    "                    mc.setBlock(cx+x, cy+y, cz+z, block.STONE_BRICK)\n",
    "                else:\n",
    "                    if y==side-2 and random.randint(1, 4)==1:\n",
    "                        mc.setBlock(cx+x, cy+y, cz+z, block.COBWEB)\n",
    "                    else:\n",
    "                        mc.setBlock(cx+x, cy+y, cz+z, block.AIR)\n",
    "\n",
    "    torch_wall = set(set(is_hole.keys()).difference(set(holes))).difference(['y1']).pop()\n",
    "    print(torch_wall)\n",
    "    if torch_wall=='x0':\n",
    "        mc.setBlock(0.0+1, 0.0+side/2, 0.0+side/2, block.TORCH[0], DIR_X1)\n",
    "    if torch_wall=='x1':\n",
    "        mc.setBlock(0.0+side-2, 0.0+side/2, 0.0+side/2, block.TORCH[0], DIR_X0)\n",
    "    if torch_wall=='z0':\n",
    "        mc.setBlock(0.0+side/2, 0.0+side/2, 0.0+1, block.TORCH[0], DIR_Z1)\n",
    "    if torch_wall=='z1':\n",
    "        mc.setBlock(0.0+side/2, 0.0+side/2, 0.0+side-2, block.TORCH[0], DIR_Z0)\n",
    "    if torch_wall=='y0':\n",
    "        mc.setBlock(0.0+side/2, 0.0+1, 0.0+side/2, block.STONE_BRICK_CHISELED)\n",
    "        mc.setBlock(0.0+side/2, 0.0+2, 0.0+side/2, block.TORCH[0], DIR_UP)\n",
    "\n",
    "                    \n"
   ]
  },
  {
   "cell_type": "code",
   "execution_count": null,
   "metadata": {},
   "outputs": [],
   "source": []
  }
 ],
 "metadata": {
  "kernelspec": {
   "display_name": "Python 3.8.13 64-bit",
   "language": "python",
   "name": "python3"
  },
  "language_info": {
   "codemirror_mode": {
    "name": "ipython",
    "version": 3
   },
   "file_extension": ".py",
   "mimetype": "text/x-python",
   "name": "python",
   "nbconvert_exporter": "python",
   "pygments_lexer": "ipython3",
   "version": "3.8.13"
  },
  "orig_nbformat": 4,
  "vscode": {
   "interpreter": {
    "hash": "1ee38ef4a5a9feb55287fd749643f13d043cb0a7addaab2a9c224cbe137c0062"
   }
  }
 },
 "nbformat": 4,
 "nbformat_minor": 2
}
