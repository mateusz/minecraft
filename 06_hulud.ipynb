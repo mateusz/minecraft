{
 "cells": [
  {
   "cell_type": "code",
   "execution_count": null,
   "metadata": {},
   "outputs": [],
   "source": []
  },
  {
   "cell_type": "code",
   "execution_count": 1,
   "metadata": {},
   "outputs": [
    {
     "ename": "ConnectionRefusedError",
     "evalue": "[Errno 111] Connection refused",
     "output_type": "error",
     "traceback": [
      "\u001b[0;31m---------------------------------------------------------------------------\u001b[0m",
      "\u001b[0;31mConnectionRefusedError\u001b[0m                    Traceback (most recent call last)",
      "\u001b[1;32m/home/mateusz/projects/minecraft/06_hulud.ipynb Cell 2\u001b[0m in \u001b[0;36m<cell line: 11>\u001b[0;34m()\u001b[0m\n\u001b[1;32m      <a href='vscode-notebook-cell:/home/mateusz/projects/minecraft/06_hulud.ipynb#W1sZmlsZQ%3D%3D?line=7'>8</a>\u001b[0m \u001b[39mfrom\u001b[39;00m \u001b[39mmcpi\u001b[39;00m\u001b[39m.\u001b[39;00m\u001b[39mvec3\u001b[39;00m \u001b[39mimport\u001b[39;00m Vec3\n\u001b[1;32m      <a href='vscode-notebook-cell:/home/mateusz/projects/minecraft/06_hulud.ipynb#W1sZmlsZQ%3D%3D?line=8'>9</a>\u001b[0m \u001b[39mimport\u001b[39;00m \u001b[39mtime\u001b[39;00m\n\u001b[0;32m---> <a href='vscode-notebook-cell:/home/mateusz/projects/minecraft/06_hulud.ipynb#W1sZmlsZQ%3D%3D?line=10'>11</a>\u001b[0m mc \u001b[39m=\u001b[39m minecraft\u001b[39m.\u001b[39;49mMinecraft\u001b[39m.\u001b[39;49mcreate(address\u001b[39m=\u001b[39;49m\u001b[39m'\u001b[39;49m\u001b[39m192.168.1.38\u001b[39;49m\u001b[39m'\u001b[39;49m)\n",
      "File \u001b[0;32m~/projects/minecraft/mcpi/minecraft.py:412\u001b[0m, in \u001b[0;36mMinecraft.create\u001b[0;34m(address, port, name)\u001b[0m\n\u001b[1;32m    410\u001b[0m \u001b[39m@staticmethod\u001b[39m\n\u001b[1;32m    411\u001b[0m \u001b[39mdef\u001b[39;00m \u001b[39mcreate\u001b[39m(address \u001b[39m=\u001b[39m \u001b[39mNone\u001b[39;00m, port \u001b[39m=\u001b[39m \u001b[39mNone\u001b[39;00m, name \u001b[39m=\u001b[39m \u001b[39mNone\u001b[39;00m):\n\u001b[0;32m--> 412\u001b[0m     \u001b[39mreturn\u001b[39;00m Minecraft(Connection(address, port), name \u001b[39m=\u001b[39m name)\n",
      "File \u001b[0;32m~/projects/minecraft/mcpi/connection.py:38\u001b[0m, in \u001b[0;36mConnection.__init__\u001b[0;34m(self, address, port)\u001b[0m\n\u001b[1;32m     36\u001b[0m     \u001b[39mself\u001b[39m\u001b[39m.\u001b[39msend_flat \u001b[39m=\u001b[39m \u001b[39mself\u001b[39m\u001b[39m.\u001b[39msend_flat_python3\n\u001b[1;32m     37\u001b[0m \u001b[39mself\u001b[39m\u001b[39m.\u001b[39msocket \u001b[39m=\u001b[39m socket\u001b[39m.\u001b[39msocket(socket\u001b[39m.\u001b[39mAF_INET, socket\u001b[39m.\u001b[39mSOCK_STREAM)\n\u001b[0;32m---> 38\u001b[0m \u001b[39mself\u001b[39;49m\u001b[39m.\u001b[39;49msocket\u001b[39m.\u001b[39;49mconnect((address, port))\n\u001b[1;32m     39\u001b[0m \u001b[39mself\u001b[39m\u001b[39m.\u001b[39mreadFile \u001b[39m=\u001b[39m \u001b[39mself\u001b[39m\u001b[39m.\u001b[39msocket\u001b[39m.\u001b[39mmakefile(\u001b[39m\"\u001b[39m\u001b[39mr\u001b[39m\u001b[39m\"\u001b[39m)\n\u001b[1;32m     40\u001b[0m \u001b[39mself\u001b[39m\u001b[39m.\u001b[39mlastSent \u001b[39m=\u001b[39m \u001b[39m\"\u001b[39m\u001b[39m\"\u001b[39m\n",
      "\u001b[0;31mConnectionRefusedError\u001b[0m: [Errno 111] Connection refused"
     ]
    }
   ],
   "source": [
    "from PIL import Image\n",
    "import numpy as np\n",
    "import mcpi.minecraft as minecraft\n",
    "import mcpi.entity as entity\n",
    "import mcpi.block as block\n",
    "import random\n",
    "import math\n",
    "from mcpi.vec3 import Vec3\n",
    "import time\n",
    "\n",
    "mc = minecraft.Minecraft.create(address='192.168.1.38')"
   ]
  },
  {
   "cell_type": "code",
   "execution_count": 155,
   "metadata": {},
   "outputs": [],
   "source": [
    "class Shaihulud:\n",
    "    def __init__(self, mc, x, y, z, len=5, speed=1):\n",
    "        self.mc = mc\n",
    "        self.speed = speed\n",
    "        self.body = []\n",
    "        self.steps_in_dir = len+1\n",
    "        self.current_steps = 0\n",
    "\n",
    "        # Speed in blocks per s\n",
    "        for i in np.arange(0, len, 1):\n",
    "            self.body.append((x, y, z+i))\n",
    "            mc.setBlock(x, y, z+i, block.WOOL_ORANGE)\n",
    "\n",
    "        self.choose_dir()\n",
    "\n",
    "    def update(self, dt):\n",
    "        steps = round(dt/self.speed)\n",
    "        for s in np.arange(0, steps, 1):\n",
    "            self.step()\n",
    "\n",
    "    def choose_dir(self):\n",
    "        progressions = set([\n",
    "            (0,0,1),\n",
    "            (0,0,-1),\n",
    "            (0,1,0),\n",
    "            (0,-1,0),\n",
    "            (1,0,0),\n",
    "            (-1,0,0),\n",
    "        ])\n",
    "        heading = (\n",
    "            round(self.body[1][0]-self.body[0][0]),\n",
    "            round(self.body[1][1]-self.body[0][1]),\n",
    "            round(self.body[1][2]-self.body[0][2])\n",
    "        )\n",
    "        progressions = progressions.difference(set([heading]))\n",
    "\n",
    "        head_wh = mc.getHeight(self.body[0][0], self.body[0][2])\n",
    "        if self.body[0][1]>=head_wh:\n",
    "            progressions = progressions.difference(set([(0,1,0)]))\n",
    "        #if self.body[0][1]<head_wh-10:\n",
    "        #    progressions = progressions.difference(set([(0,-1,0)]))\n",
    "\n",
    "        self.current_steps = 0\n",
    "        self.dir = random.choice(list(progressions))\n",
    "\n",
    "    def step(self):\n",
    "\n",
    "        tail = self.body.pop()\n",
    "        mc.setBlock(*tail, block.AIR)\n",
    "\n",
    "        new_head = (\n",
    "            self.body[0][0]+self.dir[0],\n",
    "            self.body[0][1]+self.dir[1],\n",
    "            self.body[0][2]+self.dir[2],\n",
    "        )\n",
    "        self.body.insert(0, new_head)\n",
    "        mc.setBlock(*new_head, block.WOOL_ORANGE)\n",
    "\n",
    "        self.current_steps += 1\n",
    "        if self.current_steps>=self.steps_in_dir:\n",
    "            self.choose_dir()"
   ]
  },
  {
   "cell_type": "code",
   "execution_count": 156,
   "metadata": {},
   "outputs": [],
   "source": [
    "pp = mc.player.getPos()\n",
    "\n",
    "shs = []\n",
    "for i in np.arange(0, 1, 1):\n",
    "    shs.append(Shaihulud(mc, pp.x+5, pp.y, pp.z, len=10))"
   ]
  },
  {
   "cell_type": "code",
   "execution_count": 157,
   "metadata": {},
   "outputs": [
    {
     "ename": "ValueError",
     "evalue": "Socket got closed",
     "output_type": "error",
     "traceback": [
      "\u001b[0;31m---------------------------------------------------------------------------\u001b[0m",
      "\u001b[0;31mValueError\u001b[0m                                Traceback (most recent call last)",
      "\u001b[1;32m/Users/muzdowski/Sites/minecraft/06_hulud.ipynb Cell 5\u001b[0m in \u001b[0;36m<cell line: 1>\u001b[0;34m()\u001b[0m\n\u001b[1;32m      <a href='vscode-notebook-cell:/Users/muzdowski/Sites/minecraft/06_hulud.ipynb#ch0000004?line=1'>2</a>\u001b[0m time\u001b[39m.\u001b[39msleep(\u001b[39m0.1\u001b[39m)\n\u001b[1;32m      <a href='vscode-notebook-cell:/Users/muzdowski/Sites/minecraft/06_hulud.ipynb#ch0000004?line=2'>3</a>\u001b[0m \u001b[39mfor\u001b[39;00m sh \u001b[39min\u001b[39;00m shs:\n\u001b[0;32m----> <a href='vscode-notebook-cell:/Users/muzdowski/Sites/minecraft/06_hulud.ipynb#ch0000004?line=3'>4</a>\u001b[0m     sh\u001b[39m.\u001b[39;49mstep()\n",
      "\u001b[1;32m/Users/muzdowski/Sites/minecraft/06_hulud.ipynb Cell 5\u001b[0m in \u001b[0;36mShaihulud.step\u001b[0;34m(self)\u001b[0m\n\u001b[1;32m     <a href='vscode-notebook-cell:/Users/muzdowski/Sites/minecraft/06_hulud.ipynb#ch0000004?line=45'>46</a>\u001b[0m \u001b[39mdef\u001b[39;00m \u001b[39mstep\u001b[39m(\u001b[39mself\u001b[39m):\n\u001b[1;32m     <a href='vscode-notebook-cell:/Users/muzdowski/Sites/minecraft/06_hulud.ipynb#ch0000004?line=47'>48</a>\u001b[0m     tail \u001b[39m=\u001b[39m \u001b[39mself\u001b[39m\u001b[39m.\u001b[39mbody\u001b[39m.\u001b[39mpop()\n\u001b[0;32m---> <a href='vscode-notebook-cell:/Users/muzdowski/Sites/minecraft/06_hulud.ipynb#ch0000004?line=48'>49</a>\u001b[0m     mc\u001b[39m.\u001b[39;49msetBlock(\u001b[39m*\u001b[39;49mtail, block\u001b[39m.\u001b[39;49mAIR)\n\u001b[1;32m     <a href='vscode-notebook-cell:/Users/muzdowski/Sites/minecraft/06_hulud.ipynb#ch0000004?line=50'>51</a>\u001b[0m     new_head \u001b[39m=\u001b[39m (\n\u001b[1;32m     <a href='vscode-notebook-cell:/Users/muzdowski/Sites/minecraft/06_hulud.ipynb#ch0000004?line=51'>52</a>\u001b[0m         \u001b[39mself\u001b[39m\u001b[39m.\u001b[39mbody[\u001b[39m0\u001b[39m][\u001b[39m0\u001b[39m]\u001b[39m+\u001b[39m\u001b[39mself\u001b[39m\u001b[39m.\u001b[39mdir[\u001b[39m0\u001b[39m],\n\u001b[1;32m     <a href='vscode-notebook-cell:/Users/muzdowski/Sites/minecraft/06_hulud.ipynb#ch0000004?line=52'>53</a>\u001b[0m         \u001b[39mself\u001b[39m\u001b[39m.\u001b[39mbody[\u001b[39m0\u001b[39m][\u001b[39m1\u001b[39m]\u001b[39m+\u001b[39m\u001b[39mself\u001b[39m\u001b[39m.\u001b[39mdir[\u001b[39m1\u001b[39m],\n\u001b[1;32m     <a href='vscode-notebook-cell:/Users/muzdowski/Sites/minecraft/06_hulud.ipynb#ch0000004?line=53'>54</a>\u001b[0m         \u001b[39mself\u001b[39m\u001b[39m.\u001b[39mbody[\u001b[39m0\u001b[39m][\u001b[39m2\u001b[39m]\u001b[39m+\u001b[39m\u001b[39mself\u001b[39m\u001b[39m.\u001b[39mdir[\u001b[39m2\u001b[39m],\n\u001b[1;32m     <a href='vscode-notebook-cell:/Users/muzdowski/Sites/minecraft/06_hulud.ipynb#ch0000004?line=54'>55</a>\u001b[0m     )\n\u001b[1;32m     <a href='vscode-notebook-cell:/Users/muzdowski/Sites/minecraft/06_hulud.ipynb#ch0000004?line=55'>56</a>\u001b[0m     \u001b[39mself\u001b[39m\u001b[39m.\u001b[39mbody\u001b[39m.\u001b[39minsert(\u001b[39m0\u001b[39m, new_head)\n",
      "File \u001b[0;32m~/Sites/minecraft/mcpi/minecraft.py:360\u001b[0m, in \u001b[0;36mMinecraft.setBlock\u001b[0;34m(self, *args)\u001b[0m\n\u001b[1;32m    358\u001b[0m \u001b[39mdef\u001b[39;00m \u001b[39msetBlock\u001b[39m(\u001b[39mself\u001b[39m, \u001b[39m*\u001b[39margs):\n\u001b[1;32m    359\u001b[0m     \u001b[39m\"\"\"Set block (x,y,z,id,[data])\"\"\"\u001b[39;00m\n\u001b[0;32m--> 360\u001b[0m     \u001b[39mself\u001b[39;49m\u001b[39m.\u001b[39;49mconn\u001b[39m.\u001b[39;49msend_flat(\u001b[39m\"\u001b[39;49m\u001b[39mworld.setBlock\u001b[39;49m\u001b[39m\"\u001b[39;49m, floorFlatten(args))\n",
      "File \u001b[0;32m~/Sites/minecraft/mcpi/connection.py:120\u001b[0m, in \u001b[0;36mConnection.send_flat_python3\u001b[0;34m(self, f, data)\u001b[0m\n\u001b[1;32m    118\u001b[0m \u001b[39m#        print \"f,data:\",f,list(data)\u001b[39;00m\n\u001b[1;32m    119\u001b[0m         s \u001b[39m=\u001b[39m \u001b[39m\"\u001b[39m\u001b[39m%s\u001b[39;00m\u001b[39m(\u001b[39m\u001b[39m%s\u001b[39;00m\u001b[39m)\u001b[39m\u001b[39m\\n\u001b[39;00m\u001b[39m\"\u001b[39m\u001b[39m%\u001b[39m(f, \u001b[39m\"\u001b[39m\u001b[39m,\u001b[39m\u001b[39m\"\u001b[39m\u001b[39m.\u001b[39mjoin(data))\n\u001b[0;32m--> 120\u001b[0m         \u001b[39mself\u001b[39;49m\u001b[39m.\u001b[39;49mdrain()\n\u001b[1;32m    121\u001b[0m         \u001b[39mself\u001b[39m\u001b[39m.\u001b[39mlastSent \u001b[39m=\u001b[39m s\n\u001b[1;32m    122\u001b[0m         \u001b[39mself\u001b[39m\u001b[39m.\u001b[39msocket\u001b[39m.\u001b[39msendall(s\u001b[39m.\u001b[39mencode(\u001b[39m\"\u001b[39m\u001b[39mutf-8\u001b[39m\u001b[39m\"\u001b[39m))\n",
      "File \u001b[0;32m~/Sites/minecraft/mcpi/connection.py:87\u001b[0m, in \u001b[0;36mConnection.drain\u001b[0;34m(self)\u001b[0m\n\u001b[1;32m     85\u001b[0m \u001b[39mif\u001b[39;00m \u001b[39mnot\u001b[39;00m data:\n\u001b[1;32m     86\u001b[0m     \u001b[39mself\u001b[39m\u001b[39m.\u001b[39msocket\u001b[39m.\u001b[39mclose()\n\u001b[0;32m---> 87\u001b[0m     \u001b[39mraise\u001b[39;00m \u001b[39mValueError\u001b[39;00m(\u001b[39m'\u001b[39m\u001b[39mSocket got closed\u001b[39m\u001b[39m'\u001b[39m)\n\u001b[1;32m     88\u001b[0m e \u001b[39m=\u001b[39m  \u001b[39m\"\u001b[39m\u001b[39mDrained Data: <\u001b[39m\u001b[39m%s\u001b[39;00m\u001b[39m>\u001b[39m\u001b[39m\\n\u001b[39;00m\u001b[39m\"\u001b[39m\u001b[39m%\u001b[39mdata\u001b[39m.\u001b[39mstrip()\n\u001b[1;32m     89\u001b[0m e \u001b[39m+\u001b[39m\u001b[39m=\u001b[39m \u001b[39m\"\u001b[39m\u001b[39mLast Message: <\u001b[39m\u001b[39m%s\u001b[39;00m\u001b[39m>\u001b[39m\u001b[39m\\n\u001b[39;00m\u001b[39m\"\u001b[39m\u001b[39m%\u001b[39m\u001b[39mself\u001b[39m\u001b[39m.\u001b[39mlastSent\u001b[39m.\u001b[39mstrip()\n",
      "\u001b[0;31mValueError\u001b[0m: Socket got closed"
     ]
    }
   ],
   "source": [
    "while True:\n",
    "    time.sleep(0.1)\n",
    "    for sh in shs:\n",
    "        sh.step()"
   ]
  }
 ],
 "metadata": {
  "kernelspec": {
   "display_name": "Python 3.10.4 ('minecraft')",
   "language": "python",
   "name": "python3"
  },
  "language_info": {
   "codemirror_mode": {
    "name": "ipython",
    "version": 3
   },
   "file_extension": ".py",
   "mimetype": "text/x-python",
   "name": "python",
   "nbconvert_exporter": "python",
   "pygments_lexer": "ipython3",
   "version": "3.10.4"
  },
  "orig_nbformat": 4,
  "vscode": {
   "interpreter": {
    "hash": "22cd90efa0dfb1a40c6e9c9400eae5d68ed3e96d7fe16066520f08f1d376762a"
   }
  }
 },
 "nbformat": 4,
 "nbformat_minor": 2
}
