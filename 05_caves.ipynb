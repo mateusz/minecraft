{
 "cells": [
  {
   "cell_type": "code",
   "execution_count": null,
   "metadata": {},
   "outputs": [],
   "source": []
  },
  {
   "cell_type": "code",
   "execution_count": 155,
   "metadata": {},
   "outputs": [],
   "source": [
    "from PIL import Image\n",
    "import numpy as np\n",
    "import mcpi.minecraft as minecraft\n",
    "import mcpi.entity as entity\n",
    "import mcpi.block as block\n",
    "import random\n",
    "import math\n",
    "\n",
    "STONE = (0, 0, 0, 255)\n",
    "START = (255, 0, 255, 255)\n",
    "AIR = (255, 255, 255, 255)\n",
    "\n",
    "mc = minecraft.Minecraft.create(address='192.168.1.38')"
   ]
  },
  {
   "cell_type": "code",
   "execution_count": 149,
   "metadata": {},
   "outputs": [],
   "source": [
    "im = Image.open('cave_system.png')\n",
    "pix = im.load()\n",
    "\n",
    "start = None\n",
    "hmax = 10\n",
    "base_gray = 100\n",
    "mc.setBlocks(0, -1, 0, im.size[0], 100, im.size[1], block.STAINED_GLASS_GREEN) \n",
    "mc.setBlocks(0, -1, 0, im.size[0], 100, im.size[1], block.AIR) \n",
    "\n",
    "\n",
    "for z in np.arange(0, im.size[1]):\n",
    "    for x in np.arange(0, im.size[0]):\n",
    "        p = pix[x,z]\n",
    "        h = 10\n",
    "        mc.setBlock(float(x), 0, float(z), float(x), h-1, float(z), block.AIR)\n",
    "        if random.randint(0, 10)==0:\n",
    "            mc.setBlock(float(x), h, float(z), block.GLOWSTONE_BLOCK)\n",
    "        if random.randint(0, 10)==0:\n",
    "            mc.setBlock(float(x), h, float(z), block.TNT)\n",
    "\n"
   ]
  },
  {
   "cell_type": "code",
   "execution_count": 141,
   "metadata": {},
   "outputs": [],
   "source": [
    "im = Image.open('cave_system.png')\n",
    "pix = im.load()\n",
    "\n",
    "start = None\n",
    "hmax = 10\n",
    "l0 = 10\n",
    "base_gray = 100\n",
    "mc.setBlocks(0, -1, 0, im.size[0], 100, im.size[1], block.STONE) \n",
    "\n",
    "# Also down-side!\n",
    "for z in np.arange(0, im.size[1]):\n",
    "    for x in np.arange(0, im.size[0]):\n",
    "        p = pix[x,z]\n",
    "\n",
    "        if pix[x,z]==START:\n",
    "            start = (x,1+l0,z)\n",
    "            mc.setBlocks(float(x), l0, float(z), float(x), l0+hmax, float(z), block.AIR)\n",
    "        elif abs(p[0]-p[1])<=2 and abs(p[1]-p[2])<=2 and p[0]>=base_gray-2:\n",
    "            h = int(hmax * (float(p[0]-base_gray)/base_gray))\n",
    "            if h<1:\n",
    "                h = 1\n",
    "            mc.setBlocks(float(x), l0-(h/3), float(z), float(x), l0+(h-1), float(z), block.AIR)\n",
    "            if random.randint(0, 10)==0:\n",
    "                mc.setBlock(float(x), l0+h, float(z), block.GLOWSTONE_BLOCK)\n",
    "        elif pix[x,z]==STONE:\n",
    "            # Already a stone\n",
    "            pass\n",
    "        else:\n",
    "            print('Bad pixel (%d,%d,%d,%d) at %d,%d' % (*p, x,z))\n",
    "\n"
   ]
  },
  {
   "cell_type": "code",
   "execution_count": 156,
   "metadata": {},
   "outputs": [
    {
     "data": {
      "text/plain": [
       "Vec3(103.37340030496625,9.0,34.29922231691816)"
      ]
     },
     "execution_count": 156,
     "metadata": {},
     "output_type": "execute_result"
    }
   ],
   "source": [
    "mc.player.getPos()"
   ]
  },
  {
   "cell_type": "code",
   "execution_count": 152,
   "metadata": {},
   "outputs": [],
   "source": [
    "mc.setBlock(34,6,24,block.GOLD_BLOCK)"
   ]
  },
  {
   "cell_type": "code",
   "execution_count": 158,
   "metadata": {},
   "outputs": [
    {
     "data": {
      "text/plain": [
       "140628"
      ]
     },
     "execution_count": 158,
     "metadata": {},
     "output_type": "execute_result"
    }
   ],
   "source": [
    "\n",
    "mc.spawnEntity(entity.ZOMBIE, 105.0,9.0,11.0)"
   ]
  }
 ],
 "metadata": {
  "kernelspec": {
   "display_name": "Python 3.10.4 ('minecraft')",
   "language": "python",
   "name": "python3"
  },
  "language_info": {
   "codemirror_mode": {
    "name": "ipython",
    "version": 3
   },
   "file_extension": ".py",
   "mimetype": "text/x-python",
   "name": "python",
   "nbconvert_exporter": "python",
   "pygments_lexer": "ipython3",
   "version": "3.10.4"
  },
  "orig_nbformat": 4,
  "vscode": {
   "interpreter": {
    "hash": "e0745a661304f31fe2bdabf889b0472d26d75b8a28e959e0ad84c3c00161f010"
   }
  }
 },
 "nbformat": 4,
 "nbformat_minor": 2
}
