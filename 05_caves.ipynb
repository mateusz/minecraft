{
 "cells": [
  {
   "cell_type": "code",
   "execution_count": null,
   "metadata": {},
   "outputs": [],
   "source": []
  },
  {
   "cell_type": "code",
   "execution_count": 1,
   "metadata": {},
   "outputs": [],
   "source": [
    "from PIL import Image\n",
    "import numpy as np\n",
    "import mcpi.minecraft as minecraft\n",
    "import mcpi.entity as entity\n",
    "import mcpi.block as block\n",
    "import random\n",
    "import math\n",
    "\n",
    "STONE = (0, 0, 0, 255)\n",
    "START = (255, 0, 255, 255)\n",
    "AIR = (255, 255, 255, 255)\n",
    "\n",
    "mc = minecraft.Minecraft.create(address='localhost')"
   ]
  },
  {
   "cell_type": "code",
   "execution_count": 149,
   "metadata": {},
   "outputs": [],
   "source": [
    "im = Image.open('cave_system.png')\n",
    "pix = im.load()\n",
    "\n",
    "start = None\n",
    "hmax = 10\n",
    "base_gray = 100\n",
    "mc.setBlocks(0, -1, 0, im.size[0], 100, im.size[1], block.STAINED_GLASS_GREEN) \n",
    "mc.setBlocks(0, -1, 0, im.size[0], 100, im.size[1], block.AIR) \n",
    "\n",
    "\n",
    "for z in np.arange(0, im.size[1]):\n",
    "    for x in np.arange(0, im.size[0]):\n",
    "        p = pix[x,z]\n",
    "        h = 10\n",
    "        mc.setBlock(float(x), 0, float(z), float(x), h-1, float(z), block.AIR)\n",
    "        if random.randint(0, 10)==0:\n",
    "            mc.setBlock(float(x), h, float(z), block.GLOWSTONE_BLOCK)\n",
    "        if random.randint(0, 10)==0:\n",
    "            mc.setBlock(float(x), h, float(z), block.TNT)\n",
    "\n"
   ]
  },
  {
   "cell_type": "code",
   "execution_count": 141,
   "metadata": {},
   "outputs": [],
   "source": [
    "im = Image.open('cave_system.png')\n",
    "pix = im.load()\n",
    "\n",
    "start = None\n",
    "hmax = 10\n",
    "l0 = 10\n",
    "base_gray = 100\n",
    "mc.setBlocks(0, -1, 0, im.size[0], 100, im.size[1], block.STONE) \n",
    "\n",
    "# Also down-side!\n",
    "for z in np.arange(0, im.size[1]):\n",
    "    for x in np.arange(0, im.size[0]):\n",
    "        p = pix[x,z]\n",
    "\n",
    "        if pix[x,z]==START:\n",
    "            start = (x,1+l0,z)\n",
    "            mc.setBlocks(float(x), l0, float(z), float(x), l0+hmax, float(z), block.AIR)\n",
    "        elif abs(p[0]-p[1])<=2 and abs(p[1]-p[2])<=2 and p[0]>=base_gray-2:\n",
    "            h = int(hmax * (float(p[0]-base_gray)/base_gray))\n",
    "            if h<1:\n",
    "                h = 1\n",
    "            mc.setBlocks(float(x), l0-(h/3), float(z), float(x), l0+(h-1), float(z), block.AIR)\n",
    "            if random.randint(0, 10)==0:\n",
    "                mc.setBlock(float(x), l0+h, float(z), block.GLOWSTONE_BLOCK)\n",
    "        elif pix[x,z]==STONE:\n",
    "            # Already a stone\n",
    "            pass\n",
    "        else:\n",
    "            print('Bad pixel (%d,%d,%d,%d) at %d,%d' % (*p, x,z))\n",
    "\n"
   ]
  },
  {
   "cell_type": "code",
   "execution_count": 156,
   "metadata": {},
   "outputs": [
    {
     "data": {
      "text/plain": [
       "Vec3(103.37340030496625,9.0,34.29922231691816)"
      ]
     },
     "execution_count": 156,
     "metadata": {},
     "output_type": "execute_result"
    }
   ],
   "source": [
    "mc.player.getPos()"
   ]
  },
  {
   "cell_type": "code",
   "execution_count": 152,
   "metadata": {},
   "outputs": [],
   "source": [
    "mc.setBlock(34,6,24,block.GOLD_BLOCK)"
   ]
  },
  {
   "cell_type": "code",
   "execution_count": 163,
   "metadata": {},
   "outputs": [
    {
     "name": "stderr",
     "output_type": "stream",
     "text": [
      "Drained Data: <b'43.96292857288654,9.0,20.005751637586087'>\n",
      "Last Message: <player.getPos()>\n"
     ]
    },
    {
     "ename": "KeyboardInterrupt",
     "evalue": "",
     "output_type": "error",
     "traceback": [
      "\u001b[0;31m---------------------------------------------------------------------------\u001b[0m",
      "\u001b[0;31mKeyboardInterrupt\u001b[0m                         Traceback (most recent call last)",
      "\u001b[1;32m/Users/muzdowski/Sites/minecraft/05_caves.ipynb Cell 7\u001b[0m in \u001b[0;36m<cell line: 1>\u001b[0;34m()\u001b[0m\n\u001b[1;32m      <a href='vscode-notebook-cell:/Users/muzdowski/Sites/minecraft/05_caves.ipynb#ch0000006?line=0'>1</a>\u001b[0m \u001b[39mfor\u001b[39;00m i \u001b[39min\u001b[39;00m np\u001b[39m.\u001b[39marange(\u001b[39m0\u001b[39m,\u001b[39m1000\u001b[39m,\u001b[39m1\u001b[39m):\n\u001b[0;32m----> <a href='vscode-notebook-cell:/Users/muzdowski/Sites/minecraft/05_caves.ipynb#ch0000006?line=1'>2</a>\u001b[0m     p \u001b[39m=\u001b[39m mc\u001b[39m.\u001b[39;49mplayer\u001b[39m.\u001b[39;49mgetPos()\n\u001b[1;32m      <a href='vscode-notebook-cell:/Users/muzdowski/Sites/minecraft/05_caves.ipynb#ch0000006?line=2'>3</a>\u001b[0m     mc\u001b[39m.\u001b[39mplayer\u001b[39m.\u001b[39msetPos(p\u001b[39m.\u001b[39mx\u001b[39m-\u001b[39m\u001b[39m0.1\u001b[39m, p\u001b[39m.\u001b[39my, p\u001b[39m.\u001b[39mz)\n",
      "File \u001b[0;32m~/Sites/minecraft/mcpi/minecraft.py:164\u001b[0m, in \u001b[0;36mCmdPlayer.getPos\u001b[0;34m(self)\u001b[0m\n\u001b[1;32m    163\u001b[0m \u001b[39mdef\u001b[39;00m \u001b[39mgetPos\u001b[39m(\u001b[39mself\u001b[39m):\n\u001b[0;32m--> 164\u001b[0m     \u001b[39mreturn\u001b[39;00m CmdPositioner\u001b[39m.\u001b[39;49mgetPos(\u001b[39mself\u001b[39;49m, \u001b[39mself\u001b[39;49m\u001b[39m.\u001b[39;49mid)\n",
      "File \u001b[0;32m~/Sites/minecraft/mcpi/minecraft.py:91\u001b[0m, in \u001b[0;36mCmdPositioner.getPos\u001b[0;34m(self, id)\u001b[0m\n\u001b[1;32m     89\u001b[0m \u001b[39mdef\u001b[39;00m \u001b[39mgetPos\u001b[39m(\u001b[39mself\u001b[39m, \u001b[39mid\u001b[39m):\n\u001b[1;32m     90\u001b[0m     \u001b[39m\"\"\"Get entity position (entityId:int) => Vec3\"\"\"\u001b[39;00m\n\u001b[0;32m---> 91\u001b[0m     s \u001b[39m=\u001b[39m \u001b[39mself\u001b[39;49m\u001b[39m.\u001b[39;49mconn\u001b[39m.\u001b[39;49msendReceive(\u001b[39mself\u001b[39;49m\u001b[39m.\u001b[39;49mpkg \u001b[39m+\u001b[39;49m \u001b[39m\"\u001b[39;49m\u001b[39m.getPos\u001b[39;49m\u001b[39m\"\u001b[39;49m, \u001b[39mid\u001b[39;49m)\n\u001b[1;32m     92\u001b[0m     \u001b[39mreturn\u001b[39;00m Vec3((\u001b[39mfloat\u001b[39m(x) \u001b[39mfor\u001b[39;00m x \u001b[39min\u001b[39;00m s\u001b[39m.\u001b[39msplit(\u001b[39m\"\u001b[39m\u001b[39m,\u001b[39m\u001b[39m\"\u001b[39m)))\n",
      "File \u001b[0;32m~/Sites/minecraft/mcpi/connection.py:134\u001b[0m, in \u001b[0;36mConnection.sendReceive\u001b[0;34m(self, *data)\u001b[0m\n\u001b[1;32m    132\u001b[0m \u001b[39m\"\"\"Sends and receive data\"\"\"\u001b[39;00m\n\u001b[1;32m    133\u001b[0m \u001b[39mself\u001b[39m\u001b[39m.\u001b[39msend(\u001b[39m*\u001b[39mdata)\n\u001b[0;32m--> 134\u001b[0m \u001b[39mreturn\u001b[39;00m \u001b[39mself\u001b[39;49m\u001b[39m.\u001b[39;49mreceive()\n",
      "File \u001b[0;32m~/Sites/minecraft/mcpi/connection.py:126\u001b[0m, in \u001b[0;36mConnection.receive\u001b[0;34m(self)\u001b[0m\n\u001b[1;32m    124\u001b[0m \u001b[39mdef\u001b[39;00m \u001b[39mreceive\u001b[39m(\u001b[39mself\u001b[39m):\n\u001b[1;32m    125\u001b[0m     \u001b[39m\"\"\"Receives data. Note that the trailing newline '\\n' is trimmed\"\"\"\u001b[39;00m\n\u001b[0;32m--> 126\u001b[0m     s \u001b[39m=\u001b[39m \u001b[39mself\u001b[39;49m\u001b[39m.\u001b[39;49mreadFile\u001b[39m.\u001b[39;49mreadline()\u001b[39m.\u001b[39mrstrip(\u001b[39m\"\u001b[39m\u001b[39m\\n\u001b[39;00m\u001b[39m\"\u001b[39m)\n\u001b[1;32m    127\u001b[0m     \u001b[39mif\u001b[39;00m s \u001b[39m==\u001b[39m Connection\u001b[39m.\u001b[39mRequestFailed:\n\u001b[1;32m    128\u001b[0m         \u001b[39mraise\u001b[39;00m RequestError(\u001b[39m\"\u001b[39m\u001b[39m%s\u001b[39;00m\u001b[39m failed\u001b[39m\u001b[39m\"\u001b[39m\u001b[39m%\u001b[39m\u001b[39mself\u001b[39m\u001b[39m.\u001b[39mlastSent\u001b[39m.\u001b[39mstrip())\n",
      "File \u001b[0;32m~/opt/miniconda3/envs/minecraft/lib/python3.10/socket.py:705\u001b[0m, in \u001b[0;36mSocketIO.readinto\u001b[0;34m(self, b)\u001b[0m\n\u001b[1;32m    703\u001b[0m \u001b[39mwhile\u001b[39;00m \u001b[39mTrue\u001b[39;00m:\n\u001b[1;32m    704\u001b[0m     \u001b[39mtry\u001b[39;00m:\n\u001b[0;32m--> 705\u001b[0m         \u001b[39mreturn\u001b[39;00m \u001b[39mself\u001b[39;49m\u001b[39m.\u001b[39;49m_sock\u001b[39m.\u001b[39;49mrecv_into(b)\n\u001b[1;32m    706\u001b[0m     \u001b[39mexcept\u001b[39;00m timeout:\n\u001b[1;32m    707\u001b[0m         \u001b[39mself\u001b[39m\u001b[39m.\u001b[39m_timeout_occurred \u001b[39m=\u001b[39m \u001b[39mTrue\u001b[39;00m\n",
      "\u001b[0;31mKeyboardInterrupt\u001b[0m: "
     ]
    }
   ],
   "source": [
    "for i in np.arange(0,1000,1):\n",
    "    p = mc.player.getPos()\n",
    "    mc.player.setPos(p.x-0.1, p.y, p.z)"
   ]
  }
 ],
 "metadata": {
  "kernelspec": {
   "display_name": "Python 3.10.4 ('minecraft')",
   "language": "python",
   "name": "python3"
  },
  "language_info": {
   "codemirror_mode": {
    "name": "ipython",
    "version": 3
   },
   "file_extension": ".py",
   "mimetype": "text/x-python",
   "name": "python",
   "nbconvert_exporter": "python",
   "pygments_lexer": "ipython3",
   "version": "3.10.4"
  },
  "orig_nbformat": 4,
  "vscode": {
   "interpreter": {
    "hash": "22cd90efa0dfb1a40c6e9c9400eae5d68ed3e96d7fe16066520f08f1d376762a"
   }
  }
 },
 "nbformat": 4,
 "nbformat_minor": 2
}
