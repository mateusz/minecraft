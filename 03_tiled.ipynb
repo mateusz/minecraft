{
 "cells": [
  {
   "cell_type": "code",
   "execution_count": null,
   "metadata": {},
   "outputs": [],
   "source": []
  },
  {
   "cell_type": "code",
   "execution_count": 4,
   "metadata": {},
   "outputs": [],
   "source": [
    "import pytmx\n",
    "import os"
   ]
  },
  {
   "cell_type": "code",
   "execution_count": 16,
   "metadata": {},
   "outputs": [
    {
     "name": "stdout",
     "output_type": "stream",
     "text": [
      "sticker_room\n",
      "tee\n",
      "library\n"
     ]
    }
   ],
   "source": [
    "\n",
    "tmxdata = pytmx.TiledMap(\"map1.tmx\")\n",
    "for layer in tmxdata.visible_layers:\n",
    "    if layer.name=='dungeon':\n",
    "        dungeon = layer\n",
    "\n",
    "for t in dungeon:\n",
    "    if t.type!=None:\n",
    "        type = t.type\n",
    "    else:\n",
    "        type = os.path.basename(t.image[0]).rstrip('.png')\n",
    "    print(type)\n",
    "\n",
    "\n",
    "    #print(t.image t.rotation, t.x, t.y)"
   ]
  }
 ],
 "metadata": {
  "kernelspec": {
   "display_name": "Python 3.10.4 ('minecraft')",
   "language": "python",
   "name": "python3"
  },
  "language_info": {
   "codemirror_mode": {
    "name": "ipython",
    "version": 3
   },
   "file_extension": ".py",
   "mimetype": "text/x-python",
   "name": "python",
   "nbconvert_exporter": "python",
   "pygments_lexer": "ipython3",
   "version": "3.10.4"
  },
  "orig_nbformat": 4,
  "vscode": {
   "interpreter": {
    "hash": "e0745a661304f31fe2bdabf889b0472d26d75b8a28e959e0ad84c3c00161f010"
   }
  }
 },
 "nbformat": 4,
 "nbformat_minor": 2
}
