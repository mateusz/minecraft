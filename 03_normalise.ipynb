{
 "cells": [
  {
   "cell_type": "code",
   "execution_count": null,
   "metadata": {},
   "outputs": [],
   "source": []
  },
  {
   "cell_type": "code",
   "execution_count": 1,
   "metadata": {},
   "outputs": [
    {
     "name": "stdout",
     "output_type": "stream",
     "text": [
      "pygame 2.1.2 (SDL 2.0.16, Python 3.10.4)\n",
      "Hello from the pygame community. https://www.pygame.org/contribute.html\n"
     ]
    }
   ],
   "source": [
    "import pytmx\n",
    "import mineworld.util as util\n",
    "import mineworld.room as room\n",
    "import mineworld.corridor as corridor\n",
    "import os\n",
    "import glob\n",
    "import mcpi.minecraft as minecraft\n",
    "import mcpi.entity as entity\n",
    "import mcpi.block as block\n",
    "import numpy as np\n",
    "from mcpi.vec3 import Vec3"
   ]
  },
  {
   "cell_type": "code",
   "execution_count": 2,
   "metadata": {},
   "outputs": [
    {
     "name": "stdout",
     "output_type": "stream",
     "text": [
      "{'sticker_room': <mineworld.room.Room object at 0x7fa51159f2b0>, 'factory': <mineworld.room.Room object at 0x7fa5115b4580>, 'castle_dungeon': <mineworld.room.Room object at 0x7fa5115c1870>, 'dining': <mineworld.room.Room object at 0x7fa5115d2b60>, 'school': <mineworld.room.Room object at 0x7fa5115e3e50>, 'war_room': <mineworld.room.Room object at 0x7fa5115fd180>, 'miners_cave': <mineworld.room.Room object at 0x7fa51130a470>, 'pokemon_room': <mineworld.room.Room object at 0x7fa511317760>, 'dice_room': <mineworld.room.Room object at 0x7fa511330a90>, 'spider_room': <mineworld.room.Room object at 0x7fa51133dd80>, 'library': <mineworld.room.Room object at 0x7fa51134f070>, 'lazerforce': <mineworld.room.Room object at 0x7fa5113643a0>, 'castle': <mineworld.room.Room object at 0x7fa511371690>, 'swimming_pool': <mineworld.room.Room object at 0x7fa511382980>, 'bathroom': <mineworld.room.Room object at 0x7fa51138fc70>, 'train_station': <mineworld.room.Room object at 0x7fa5113a8fa0>, 'bank': <mineworld.room.Room object at 0x7fa5113b6290>, 'clothes_shop': <mineworld.room.Room object at 0x7fa5113c7580>}\n"
     ]
    }
   ],
   "source": [
    "# Load rooms that point all direction \n",
    "rooms = {}\n",
    "for rf in glob.glob(\"rooms/*.pickle\"):\n",
    "    r = room.load_room(rf)\n",
    "    rooms[r.name] = r\n",
    "print(rooms)"
   ]
  },
  {
   "cell_type": "code",
   "execution_count": 3,
   "metadata": {},
   "outputs": [],
   "source": [
    "mc = minecraft.Minecraft.create(address='192.168.1.38')\n",
    "mc.player.getPos()\n",
    "\n",
    "mc.setBlocks(0, 0, -util.TILE_SIZE, len(rooms)*10*util.TILE_SIZE, util.TILE_SIZE, 2*util.TILE_SIZE, block.STONE) "
   ]
  },
  {
   "cell_type": "code",
   "execution_count": 4,
   "metadata": {},
   "outputs": [
    {
     "name": "stdout",
     "output_type": "stream",
     "text": [
      "{'sticker_room': [0, 0, 0], 'factory': [9, 0, 0], 'castle_dungeon': [18, 0, 0], 'dining': [27, 0, 0], 'school': [36, 0, 0], 'war_room': [45, 0, 0], 'miners_cave': [54, 0, 0], 'pokemon_room': [63, 0, 0], 'dice_room': [72, 0, 0], 'spider_room': [81, 0, 0], 'library': [90, 0, 0], 'lazerforce': [99, 0, 0], 'castle': [108, 0, 0], 'swimming_pool': [117, 0, 0], 'bathroom': [126, 0, 0], 'train_station': [135, 0, 0], 'bank': [144, 0, 0], 'clothes_shop': [153, 0, 0]}\n"
     ]
    }
   ],
   "source": [
    "# Plonk all the rooms in a row\n",
    "normalise = {\n",
    "    'down': 270,\n",
    "    'left': 0,\n",
    "    'up': 90,\n",
    "    'right': 180,\n",
    "}\n",
    "\n",
    "i = 0\n",
    "for b in rooms['castle_dungeon'].blocks:\n",
    "    #if b[0]==block.WEIGHTED_PRESSURE_PLATE_LIGHT[0]:\n",
    "    #    rooms['castle_dungeon'].blocks[i] = block.AIR\n",
    "    if b[0]==block.TNT:\n",
    "        rooms['castle_dungeon'].blocks[i] = block.STAINED_GLASS_BLUE\n",
    "    i += 1\n",
    "\n",
    "x = 0\n",
    "coords = {}\n",
    "for r in rooms:\n",
    "    rooms[r].draw(mc, *util.to_world(x,0,0), rot=normalise[rooms[r].door_style])\n",
    "    corridor.draw_corridor(mc, *util.to_world(x,0,-1), rot=0, holes=['x0', 'x1', 'z0', 'z1'])\n",
    "    coords[r] = util.to_world(x,0,0)\n",
    "    x += 1\n",
    "\n",
    "print(coords)\n",
    "    "
   ]
  },
  {
   "cell_type": "code",
   "execution_count": 5,
   "metadata": {},
   "outputs": [],
   "source": [
    "# Edit out the room that explodes\n",
    "mc.player.setPos(5,1,-5)"
   ]
  },
  {
   "cell_type": "code",
   "execution_count": 6,
   "metadata": {},
   "outputs": [
    {
     "name": "stdout",
     "output_type": "stream",
     "text": [
      "Processing sticker_room...\n",
      "Processing factory...\n",
      "Processing castle_dungeon...\n",
      "Processing dining...\n",
      "Processing school...\n",
      "Processing war_room...\n",
      "Processing miners_cave...\n",
      "Processing pokemon_room...\n",
      "Processing dice_room...\n",
      "Processing spider_room...\n",
      "Processing library...\n",
      "Processing lazerforce...\n",
      "Processing castle...\n",
      "Processing swimming_pool...\n",
      "Processing bathroom...\n",
      "Processing train_station...\n",
      "Processing bank...\n",
      "Processing clothes_shop...\n"
     ]
    }
   ],
   "source": [
    "# Write new rooms that point north this time\n",
    "x = 0\n",
    "for r in rooms:\n",
    "    print('Processing %s...' % r)\n",
    "    coords = util.to_world(x,0,0)\n",
    "    side = 9\n",
    "    blocks = mc.getBlocksWithNBT(coords[0], coords[1], coords[2], coords[0]+side-1, coords[1]+side-1, coords[2]+side-1)\n",
    "    room_obj = room.Room(\n",
    "        name=r,\n",
    "        side=9,\n",
    "        door_style='left',\n",
    "        source_location=Vec3(x, 0, 0),\n",
    "        version=1,\n",
    "        blocks=blocks,\n",
    "    )\n",
    "    room_obj.write(dir='rooms2')\n",
    "    x += 1\n"
   ]
  },
  {
   "cell_type": "code",
   "execution_count": 7,
   "metadata": {},
   "outputs": [
    {
     "name": "stdout",
     "output_type": "stream",
     "text": [
      "{'sticker_room': <mineworld.room.Room object at 0x7fa5113cdd50>, 'factory': <mineworld.room.Room object at 0x7fa50e80b100>, 'castle_dungeon': <mineworld.room.Room object at 0x7fa50e820430>, 'dining': <mineworld.room.Room object at 0x7fa50e830670>, 'school': <mineworld.room.Room object at 0x7fa50e83d960>, 'war_room': <mineworld.room.Room object at 0x7fa50e84ec50>, 'miners_cave': <mineworld.room.Room object at 0x7fa50e85bf40>, 'pokemon_room': <mineworld.room.Room object at 0x7fa50e871270>, 'dice_room': <mineworld.room.Room object at 0x7fa50e882560>, 'spider_room': <mineworld.room.Room object at 0x7fa50e88f850>, 'library': <mineworld.room.Room object at 0x7fa50e8a8b80>, 'lazerforce': <mineworld.room.Room object at 0x7fa50e8c5e70>, 'castle': <mineworld.room.Room object at 0x7fa50e8db160>, 'swimming_pool': <mineworld.room.Room object at 0x7fa512004490>, 'bathroom': <mineworld.room.Room object at 0x7fa51201d780>, 'train_station': <mineworld.room.Room object at 0x7fa512036a70>, 'bank': <mineworld.room.Room object at 0x7fa51204fd60>, 'clothes_shop': <mineworld.room.Room object at 0x7fa512071090>}\n"
     ]
    }
   ],
   "source": [
    "# Reload new rooms\n",
    "rooms2 = {}\n",
    "for rf in glob.glob(\"rooms2/*.pickle\"):\n",
    "    r = room.load_room(rf)\n",
    "    rooms2[r.name] = r\n",
    "print(rooms2)"
   ]
  },
  {
   "cell_type": "code",
   "execution_count": 34,
   "metadata": {},
   "outputs": [],
   "source": [
    "# Generate new images\n",
    "for r in rooms2:\n",
    "    rooms2[r].get_image_at_y().save('rooms2_images/%s.png' % r)"
   ]
  }
 ],
 "metadata": {
  "kernelspec": {
   "display_name": "Python 3.10.4 ('minecraft')",
   "language": "python",
   "name": "python3"
  },
  "language_info": {
   "codemirror_mode": {
    "name": "ipython",
    "version": 3
   },
   "file_extension": ".py",
   "mimetype": "text/x-python",
   "name": "python",
   "nbconvert_exporter": "python",
   "pygments_lexer": "ipython3",
   "version": "3.10.4"
  },
  "orig_nbformat": 4,
  "vscode": {
   "interpreter": {
    "hash": "22cd90efa0dfb1a40c6e9c9400eae5d68ed3e96d7fe16066520f08f1d376762a"
   }
  }
 },
 "nbformat": 4,
 "nbformat_minor": 2
}
