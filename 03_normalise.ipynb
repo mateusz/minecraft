{
 "cells": [
  {
   "cell_type": "code",
   "execution_count": null,
   "metadata": {},
   "outputs": [],
   "source": []
  },
  {
   "cell_type": "code",
   "execution_count": 1,
   "metadata": {},
   "outputs": [
    {
     "name": "stdout",
     "output_type": "stream",
     "text": [
      "pygame 2.1.2 (SDL 2.0.18, Python 3.10.4)\n",
      "Hello from the pygame community. https://www.pygame.org/contribute.html\n"
     ]
    }
   ],
   "source": [
    "import pytmx\n",
    "import mineworld.util as util\n",
    "import mineworld.room as room\n",
    "import mineworld.corridor as corridor\n",
    "import os\n",
    "import glob\n",
    "import mcpi.minecraft as minecraft\n",
    "import mcpi.entity as entity\n",
    "import mcpi.block as block\n",
    "import numpy as np\n",
    "from mcpi.vec3 import Vec3"
   ]
  },
  {
   "cell_type": "code",
   "execution_count": 21,
   "metadata": {},
   "outputs": [
    {
     "name": "stdout",
     "output_type": "stream",
     "text": [
      "{'sticker_room': <mineworld.room.Room object at 0x7facbf3dabf0>, 'factory': <mineworld.room.Room object at 0x7facbf594ac0>, 'castle_dungeon': <mineworld.room.Room object at 0x7facbf5c5db0>, 'dining': <mineworld.room.Room object at 0x7facbf5b1f60>, 'school': <mineworld.room.Room object at 0x7facbf5983d0>, 'war_room': <mineworld.room.Room object at 0x7facbf3b56c0>, 'miners_cave': <mineworld.room.Room object at 0x7facbf3bf610>, 'pokemon_room': <mineworld.room.Room object at 0x7facbf3a3580>, 'dice_room': <mineworld.room.Room object at 0x7facbf380fd0>, 'spider_room': <mineworld.room.Room object at 0x7facbd9d0c10>, 'library': <mineworld.room.Room object at 0x7facbf35e560>, 'lazerforce': <mineworld.room.Room object at 0x7facbf37f7f0>, 'castle': <mineworld.room.Room object at 0x7facbf33cb20>, 'swimming_pool': <mineworld.room.Room object at 0x7facbf346560>, 'bathroom': <mineworld.room.Room object at 0x7facbf32e4d0>, 'train_station': <mineworld.room.Room object at 0x7facbf314430>, 'bank': <mineworld.room.Room object at 0x7facbf305720>, 'clothes_shop': <mineworld.room.Room object at 0x7facbf3f6a10>}\n"
     ]
    }
   ],
   "source": [
    "# Load rooms that point all direction \n",
    "rooms = {}\n",
    "for rf in glob.glob(\"rooms/*.pickle\"):\n",
    "    r = room.load_room(rf)\n",
    "    rooms[r.name] = r\n",
    "print(rooms)"
   ]
  },
  {
   "cell_type": "code",
   "execution_count": 26,
   "metadata": {},
   "outputs": [
    {
     "data": {
      "text/plain": [
       "Vec3(-1.5,233.0,5.5)"
      ]
     },
     "execution_count": 26,
     "metadata": {},
     "output_type": "execute_result"
    }
   ],
   "source": [
    "mc = minecraft.Minecraft.create(address='192.168.1.38')\n",
    "mc.player.getPos()"
   ]
  },
  {
   "cell_type": "code",
   "execution_count": 27,
   "metadata": {},
   "outputs": [
    {
     "name": "stdout",
     "output_type": "stream",
     "text": [
      "{'sticker_room': [0, 0, 0], 'factory': [9, 0, 0], 'castle_dungeon': [18, 0, 0], 'dining': [27, 0, 0], 'school': [36, 0, 0], 'war_room': [45, 0, 0], 'miners_cave': [54, 0, 0], 'pokemon_room': [63, 0, 0], 'dice_room': [72, 0, 0], 'spider_room': [81, 0, 0], 'library': [90, 0, 0], 'lazerforce': [99, 0, 0], 'castle': [108, 0, 0], 'swimming_pool': [117, 0, 0], 'bathroom': [126, 0, 0], 'train_station': [135, 0, 0], 'bank': [144, 0, 0], 'clothes_shop': [153, 0, 0]}\n"
     ]
    }
   ],
   "source": [
    "# Plonk all the rooms in a row\n",
    "normalise = {\n",
    "    'down': 270,\n",
    "    'left': 0,\n",
    "    'up': 90,\n",
    "    'right': 180,\n",
    "}\n",
    "\n",
    "i = 0\n",
    "for b in rooms['castle_dungeon'].blocks:\n",
    "    #if b[0]==block.WEIGHTED_PRESSURE_PLATE_LIGHT[0]:\n",
    "    #    rooms['castle_dungeon'].blocks[i] = block.AIR\n",
    "    if b[0]==block.TNT:\n",
    "        rooms['castle_dungeon'].blocks[i] = block.STAINED_GLASS_BLUE\n",
    "    i += 1\n",
    "\n",
    "x = 0\n",
    "coords = {}\n",
    "for r in rooms:\n",
    "    rooms[r].draw(mc, *util.to_world(x,0,0), rot=normalise[rooms[r].door_style])\n",
    "    corridor.draw_corridor(mc, *util.to_world(x,0,-1), rot=0, holes=['x0', 'x1', 'z0', 'z1'])\n",
    "    coords[r] = util.to_world(x,0,0)\n",
    "    x += 1\n",
    "\n",
    "print(coords)\n",
    "    "
   ]
  },
  {
   "cell_type": "code",
   "execution_count": 28,
   "metadata": {},
   "outputs": [],
   "source": [
    "# Edit out the room that explodes\n",
    "mc.player.setPos(5,1,5)"
   ]
  },
  {
   "cell_type": "code",
   "execution_count": 32,
   "metadata": {},
   "outputs": [
    {
     "name": "stdout",
     "output_type": "stream",
     "text": [
      "Processing sticker_room...\n",
      "Processing factory...\n",
      "Processing castle_dungeon...\n",
      "Processing dining...\n",
      "Processing school...\n",
      "Processing war_room...\n",
      "Processing miners_cave...\n",
      "Processing pokemon_room...\n",
      "Processing dice_room...\n",
      "Processing spider_room...\n",
      "Processing library...\n",
      "Processing lazerforce...\n",
      "Processing castle...\n",
      "Processing swimming_pool...\n",
      "Processing bathroom...\n",
      "Processing train_station...\n",
      "Processing bank...\n",
      "Processing clothes_shop...\n"
     ]
    }
   ],
   "source": [
    "# Write new rooms that point north this time\n",
    "x = 0\n",
    "for r in rooms:\n",
    "    print('Processing %s...' % r)\n",
    "    coords = util.to_world(x,0,0)\n",
    "    side = 9\n",
    "    blocks = mc.getBlocksWithNBT(coords[0], coords[1], coords[2], coords[0]+side-1, coords[1]+side-1, coords[2]+side-1)\n",
    "    room_obj = room.Room(\n",
    "        name=r,\n",
    "        side=9,\n",
    "        door_style='left',\n",
    "        source_location=Vec3(x, 0, 0),\n",
    "        version=1,\n",
    "        blocks=blocks,\n",
    "    )\n",
    "    room_obj.write(dir='rooms2')\n",
    "    x += 1\n"
   ]
  },
  {
   "cell_type": "code",
   "execution_count": 33,
   "metadata": {},
   "outputs": [
    {
     "name": "stdout",
     "output_type": "stream",
     "text": [
      "{'sticker_room': <mineworld.room.Room object at 0x7facbf3dbb50>, 'factory': <mineworld.room.Room object at 0x7facc1198520>, 'castle_dungeon': <mineworld.room.Room object at 0x7facc11a9810>, 'dining': <mineworld.room.Room object at 0x7facc11b6b00>, 'school': <mineworld.room.Room object at 0x7facc11c3df0>, 'war_room': <mineworld.room.Room object at 0x7facc11dd120>, 'miners_cave': <mineworld.room.Room object at 0x7facc11ea410>, 'pokemon_room': <mineworld.room.Room object at 0x7facc11fb700>, 'dice_room': <mineworld.room.Room object at 0x7facc0f48a30>, 'spider_room': <mineworld.room.Room object at 0x7facc0ff1d20>, 'library': <mineworld.room.Room object at 0x7facc0fe6fe0>, 'lazerforce': <mineworld.room.Room object at 0x7facc0f8c340>, 'castle': <mineworld.room.Room object at 0x7facc0f79630>, 'swimming_pool': <mineworld.room.Room object at 0x7facc0f6dcf0>, 'bathroom': <mineworld.room.Room object at 0x7facc0f83c10>, 'train_station': <mineworld.room.Room object at 0x7facc0f0cf40>, 'bank': <mineworld.room.Room object at 0x7facc10ee230>, 'clothes_shop': <mineworld.room.Room object at 0x7facc10d8d30>}\n"
     ]
    }
   ],
   "source": [
    "# Reload new rooms\n",
    "rooms2 = {}\n",
    "for rf in glob.glob(\"rooms2/*.pickle\"):\n",
    "    r = room.load_room(rf)\n",
    "    rooms2[r.name] = r\n",
    "print(rooms2)"
   ]
  },
  {
   "cell_type": "code",
   "execution_count": 34,
   "metadata": {},
   "outputs": [],
   "source": [
    "# Generate new images\n",
    "for r in rooms2:\n",
    "    rooms2[r].get_image_at_y().save('rooms2_images/%s.png' % r)"
   ]
  }
 ],
 "metadata": {
  "kernelspec": {
   "display_name": "Python 3.10.4 ('minecraft')",
   "language": "python",
   "name": "python3"
  },
  "language_info": {
   "codemirror_mode": {
    "name": "ipython",
    "version": 3
   },
   "file_extension": ".py",
   "mimetype": "text/x-python",
   "name": "python",
   "nbconvert_exporter": "python",
   "pygments_lexer": "ipython3",
   "version": "3.10.4"
  },
  "orig_nbformat": 4,
  "vscode": {
   "interpreter": {
    "hash": "e0745a661304f31fe2bdabf889b0472d26d75b8a28e959e0ad84c3c00161f010"
   }
  }
 },
 "nbformat": 4,
 "nbformat_minor": 2
}
